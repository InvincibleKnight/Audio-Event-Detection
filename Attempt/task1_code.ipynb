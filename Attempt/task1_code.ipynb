{
  "nbformat": 4,
  "nbformat_minor": 0,
  "metadata": {
    "kernelspec": {
      "display_name": "Python 3",
      "language": "python",
      "name": "python3"
    },
    "language_info": {
      "codemirror_mode": {
        "name": "ipython",
        "version": 3
      },
      "file_extension": ".py",
      "mimetype": "text/x-python",
      "name": "python",
      "nbconvert_exporter": "python",
      "pygments_lexer": "ipython3",
      "version": "3.7.8"
    },
    "colab": {
      "name": "AED.ipynb",
      "provenance": [],
      "toc_visible": true
    },
    "accelerator": "GPU"
  },
  "cells": [
    {
      "cell_type": "code",
      "metadata": {
        "colab": {
          "base_uri": "https://localhost:8080/"
        },
        "id": "SuJEd5bXFoRE",
        "outputId": "218cd8c7-561e-419a-9c87-a7f09bf1d0ef"
      },
      "source": [
        "pip install python-levenshtein"
      ],
      "execution_count": null,
      "outputs": [
        {
          "output_type": "stream",
          "text": [
            "Requirement already satisfied: python-levenshtein in /usr/local/lib/python3.6/dist-packages (0.12.0)\n",
            "Requirement already satisfied: setuptools in /usr/local/lib/python3.6/dist-packages (from python-levenshtein) (50.3.2)\n"
          ],
          "name": "stdout"
        }
      ]
    },
    {
      "cell_type": "markdown",
      "metadata": {
        "id": "f3rYomiJuHkv"
      },
      "source": [
        "## **Importing Libraries**"
      ]
    },
    {
      "cell_type": "code",
      "metadata": {
        "id": "CSbpqgXBmv05"
      },
      "source": [
        "import librosa\n",
        "import math\n",
        "import numpy as np\n",
        "import pdb\n",
        "import string\n",
        "from Levenshtein import distance\n",
        "import csv, os, glob\n",
        "from tensorflow import keras\n",
        "import pandas as pd\n",
        "\n",
        "import tensorflow as tf\n",
        "from tensorflow import keras\n",
        "from keras.models import Sequential\n",
        "from keras.layers import Dense,Dropout,MaxPooling2D,Conv2D,GlobalAveragePooling2D,BatchNormalization\n"
      ],
      "execution_count": null,
      "outputs": []
    },
    {
      "cell_type": "markdown",
      "metadata": {
        "id": "U4PhVigouOiB"
      },
      "source": [
        "# **Functions provided in utils.py**"
      ]
    },
    {
      "cell_type": "code",
      "metadata": {
        "id": "sGZAtGUUmv05"
      },
      "source": [
        "def wav2feat(wavfile):\n",
        "    '''\n",
        "    Input: audio wav file name\n",
        "    Output: Magnitude spectrogram\n",
        "    '''\n",
        "    x, Fs = librosa.load(wavfile, sr=44100, mono=True) \n",
        "    hop = int(0.01 * Fs) # 10ms\n",
        "    win = int(0.02 * Fs) # 20ms\n",
        "    X = librosa.stft(x, n_fft=1024, hop_length=hop, win_length=win, window='hann', center=True, pad_mode='reflect')\n",
        "    return np.abs(X)\n",
        "\n",
        "def wavs2feat(wavfiles):\n",
        "    '''\n",
        "    Concatenate the audio files listed in wavfiles\n",
        "    Input: list of audio wav file names\n",
        "    Output: Magnitude spectrogram of concatenated wav\n",
        "    '''\n",
        "    x = []\n",
        "    for wf in wavfiles:\n",
        "        x1, Fs = librosa.load(wf, sr=44100, mono=True)\n",
        "        x.append(x1)\n",
        "    x = np.hstack(x)\n",
        "    hop = int(0.01 * Fs) # 10ms\n",
        "    win = int(0.02 * Fs) # 20ms\n",
        "    X = librosa.stft(x, n_fft=1024, hop_length=hop, win_length=win, window='hann', center=True, pad_mode='reflect')\n",
        "    return np.abs(X)\n",
        "\n",
        "def read_csv(filename):\n",
        "    id_label = {}\n",
        "    with open(filename,'r') as fid:\n",
        "        for line in fid: # '176787-5-0-27.wav,engine_idling\\n'\n",
        "            tokens = line.strip().split(',') # ['176787-5-0-27.wav', 'engine_idling']\n",
        "            id_label[tokens[0]] = tokens[1]\n",
        "    return id_label\n",
        "\n",
        "def editDistance(gt, est):\n",
        "    '''both are lists of labels\n",
        "    E.g. gt is \"dog_bark-street_music-engine_idling\"\n",
        "    E.g. est is \"street_music-engine_idling\"\n",
        "    '''\n",
        "    gttokens = gt.split('-')\n",
        "    esttokens = est.split('-')\n",
        "    # Map token to char\n",
        "    tokenset = list(set(gttokens+esttokens)) # ['dog_bark', 'siren', 'street_music', 'engine_idling']\n",
        "    token_char = {}\n",
        "    for i in range(len(tokenset)):\n",
        "        token_char[tokenset[i]] = string.ascii_uppercase[i]  # {'dog_bark': 'A', 'siren': 'B', 'street_music': 'C', 'engine_idling': 'D'}\n",
        "    # convert gt and est to strings\n",
        "    gtstr = [token_char[t] for t in gttokens]\n",
        "    gtstr = ''.join(gtstr)  # 'BCA'\n",
        "    eststr = [token_char[t] for t in esttokens]\n",
        "    eststr = ''.join(eststr)  # \n",
        "    # Compare\n",
        "    editdist = distance(gtstr, eststr) # 1\n",
        "    score = 1 - editdist/len(gtstr)\n",
        "    return editdist, score\n",
        "\n",
        "def evals(gtcsv, estcsv, taskid):\n",
        "    gt_id_label = read_csv(gtcsv)\n",
        "    est_id_label = read_csv(estcsv)\n",
        "    score = 0\n",
        "    for id in est_id_label:\n",
        "        if taskid==1:\n",
        "            if est_id_label[id] == gt_id_label[id]:\n",
        "                score += 1\n",
        "        elif taskid==2:\n",
        "            _, ss = editDistance(gt_id_label[id], est_id_label[id])\n",
        "            score += ss\n",
        "        else:\n",
        "            pdb.set_trace()\n",
        "            assert False, [\"taskid not correct; it is\", taskid]\n",
        "    avgScore = score/len(est_id_label)\n",
        "    return avgScore\n",
        "\n",
        "#if __name__==\"__main__\":\n",
        "#    wavs = ['../shared_train/audio_train/180937-7-3-27.wav']\n",
        "#    wavs2feat(wavs)\n",
        "#     # wavfiles = ['../shared_train/audio_train/180937-7-3-27.wav','../shared_train/audio_train/180937-7-3-27.wav']\n",
        "#     # X = wavs2feat(wavfiles)\n",
        "#     # eval('test_task1/labels.csv', 'test_task1/est.csv', 1)\n",
        "#     editDistance(\"dog_bark-street_music-engine_idling\",\n",
        "#         \"siren-street_music-engine_idling\")"
      ],
      "execution_count": null,
      "outputs": []
    },
    {
      "cell_type": "markdown",
      "metadata": {
        "id": "WUPWSajIuWtb"
      },
      "source": [
        "# **Functions made**"
      ]
    },
    {
      "cell_type": "markdown",
      "metadata": {
        "id": "EEbsd0aiub8e"
      },
      "source": [
        "**Feature extraction of multiple audio files**"
      ]
    },
    {
      "cell_type": "code",
      "metadata": {
        "id": "Qxo1Hs8Gmv05"
      },
      "source": [
        "def read_audio_files(files):\n",
        "    feat = [wav2feat(file) for file in files]\n",
        "    return feat"
      ],
      "execution_count": null,
      "outputs": []
    },
    {
      "cell_type": "markdown",
      "metadata": {
        "id": "mhhWJ93RujbY"
      },
      "source": [
        "**Add padding for making the dimension same for all the files**"
      ]
    },
    {
      "cell_type": "code",
      "metadata": {
        "id": "FLaDU7Oamv05"
      },
      "source": [
        "def add_padding(X):\n",
        "    data_samples = len(X)\n",
        "    for i in range(data_samples):\n",
        "        X[i] = np.pad(X[i],((0,0),(0,401-X[i].shape[1])))\n",
        "    X = np.array(X)\n",
        "    return X"
      ],
      "execution_count": null,
      "outputs": []
    },
    {
      "cell_type": "markdown",
      "metadata": {
        "id": "WiiYCMhku31L"
      },
      "source": [
        "**Function for One_hot_encoding**"
      ]
    },
    {
      "cell_type": "code",
      "metadata": {
        "id": "3qk1oVCUmv05"
      },
      "source": [
        "def one_hot_encoding(t_indices, N):\n",
        "    '''\n",
        "    Inputs:\n",
        "        t_indices: [np.array] list of indices\n",
        "        N: [int] total no. of classes\n",
        "    Output:\n",
        "        t_1hot: [np.array] one hot encoded vectors\n",
        "    '''\n",
        "    assert N>max(t_indices), (N, max(t_indices))\n",
        "    ### WRITE YOUR CODE HERE - 2 MARKS\n",
        "    l = len(t_indices)\n",
        "    t_1hot = np.zeros((l,N),dtype = int)\n",
        "    for i in range(l):\n",
        "        t_1hot[i,t_indices[i]] = 1\n",
        "\n",
        "    return t_1hot"
      ],
      "execution_count": null,
      "outputs": []
    },
    {
      "cell_type": "markdown",
      "metadata": {
        "id": "YALzd6o4vOgy"
      },
      "source": [
        "**Splitting training data into training and validation data**"
      ]
    },
    {
      "cell_type": "code",
      "metadata": {
        "id": "k41NpQnEmv05"
      },
      "source": [
        "def splitData(X,t,testFraction=0.1):\n",
        "    \"\"\"\n",
        "    Split the data randomly into training and test sets\n",
        "    Use numpy functions only\n",
        "    Inputs:\n",
        "        X: np array of shape (Nsamples, dim)\n",
        "        t: np array of len Nsamples; can be one hot vectors or labels\n",
        "        testFraction: (float) Nsamples_test = testFraction * Nsamples\n",
        "    \"\"\"\n",
        "\n",
        "\n",
        "    ### WRITE YOUR CODE HERE - 3 MARKS\n",
        "    np.random.seed(0)\n",
        "    np.take(X,np.random.permutation(X.shape[0]),axis=0,out=X);\n",
        "    np.random.seed(0)\n",
        "    np.take(t,np.random.permutation(X.shape[0]),axis=0,out=t);\n",
        "    N_test = int(X.shape[0]*testFraction)\n",
        "    X_test, X_train = X[:N_test,:,:,:], X[N_test:,:,:,:]\n",
        "    t_test, t_train = t[:N_test], t[N_test:]   \n",
        "\n",
        "    return X_train, t_train, X_test, t_test"
      ],
      "execution_count": null,
      "outputs": []
    },
    {
      "cell_type": "markdown",
      "metadata": {
        "id": "bSSxXiFrvbGW"
      },
      "source": [
        "**Training Function**"
      ]
    },
    {
      "cell_type": "code",
      "metadata": {
        "id": "YRRKh0aCmv05"
      },
      "source": [
        "def train(X_train, t_train, X_val, t_val, Nepochs):\n",
        "    '''\n",
        "    Train a keras dense model for multi-event classification.\n",
        "    Inputs:\n",
        "        X_train: Data for training. \n",
        "        Nepochs: number of epochs\n",
        "    Return:\n",
        "        model: keras model\n",
        "    '''\n",
        "    n_input = X_train.shape[0]\n",
        "    \n",
        "    model = keras.Sequential()\n",
        "    model.add(Conv2D(filters = 16, kernel_size = 3, input_shape = (513,401,1), activation = 'relu'))\n",
        "    model.add(MaxPooling2D(pool_size = 2))\n",
        "    model.add(Dropout(0.15))\n",
        "    \n",
        "    model.add(Conv2D(filters = 32, kernel_size = 3, activation = 'relu'))\n",
        "    model.add(MaxPooling2D(pool_size = 2))\n",
        "    model.add(Dropout(0.15))\n",
        "    \n",
        "    model.add(Conv2D(filters = 64, kernel_size = 3, activation = 'relu'))\n",
        "    model.add(MaxPooling2D(pool_size = 2))\n",
        "    model.add(Dropout(0.1))\n",
        "    \n",
        "    model.add(Conv2D(filters = 128, kernel_size = 3, activation = 'relu'))\n",
        "    model.add(MaxPooling2D(pool_size = 2))\n",
        "    model.add(Dropout(0.1))\n",
        "    model.add(GlobalAveragePooling2D())\n",
        "    \n",
        "    model.add(Dense(100,activation = 'relu'))\n",
        "    model.add(Dropout(0.1))\n",
        "\n",
        "    model.add(Dense(11, activation = 'softmax'))\n",
        "    \n",
        "    opt = keras.optimizers.Adam(learning_rate = 0.01)\n",
        "    checkpoint_filepath = \"/checkpoint\"\n",
        "    checkpoint = keras.callbacks.ModelCheckpoint(filepath=checkpoint_filepath, verbose=1, monitor='val_accuracy',save_best_only=True,save_weights_only=True,mode='max')\n",
        "    model.compile(optimizer=opt, loss='sparse_categorical_crossentropy', metrics=['accuracy'])\n",
        "    model.fit(X_train, t_train, epochs = Nepochs,batch_size = 100, validation_data=(X_val,t_val),callbacks=[checkpoint])   \n",
        "      \n",
        "\n",
        "    return model"
      ],
      "execution_count": null,
      "outputs": []
    },
    {
      "cell_type": "markdown",
      "metadata": {
        "id": "yJR3Tfz1vrHK"
      },
      "source": [
        "**Hard Prediction**"
      ]
    },
    {
      "cell_type": "code",
      "metadata": {
        "id": "M2ePVS5vpnkk"
      },
      "source": [
        "def predict(model, X_test):\r\n",
        "    '''\r\n",
        "    Predict class for unknown inputs\r\n",
        "    Returns:\r\n",
        "        y_pred: np array of predicted vectors.\r\n",
        "    '''\r\n",
        "\r\n",
        "    ### WRITE YOUR CODE HERE - 5 MARKS\r\n",
        "    y_pred = model.predict(X_test)\r\n",
        "    n_output = y_pred.shape[1]\r\n",
        "    y = np.argmax(y_pred,axis = 1)\r\n",
        "    y_pred = one_hot_encoding(y,n_output)\r\n",
        "\r\n",
        "    return y_pred"
      ],
      "execution_count": null,
      "outputs": []
    },
    {
      "cell_type": "markdown",
      "metadata": {
        "id": "I_i-XGzKvwIQ"
      },
      "source": [
        "**Evaluation of CM**"
      ]
    },
    {
      "cell_type": "code",
      "metadata": {
        "id": "PF4a5YNApq2Z"
      },
      "source": [
        "def evaluate(y_pred, t_test):\r\n",
        "    '''\r\n",
        "    Use only numpy\r\n",
        "    Return CM: np.array of shape (No. of Events, No. of Events)\r\n",
        "    '''\r\n",
        "    n_test = y_pred.shape[0]\r\n",
        "\r\n",
        "    n_classes = y_pred.shape[1]\r\n",
        "    CM = np.zeros((n_classes,n_classes),dtype = int) \r\n",
        "    y, t = np.argmax(y_pred, axis = 1), t_test\r\n",
        "    for i in range(n_test):\r\n",
        "      CM[t[i],y[i]] = CM[t[i],y[i]] + 1\r\n",
        "\r\n",
        "    return CM"
      ],
      "execution_count": null,
      "outputs": []
    },
    {
      "cell_type": "markdown",
      "metadata": {
        "id": "qrYSUcVSv1bW"
      },
      "source": [
        "# **Preprocessing of training data**"
      ]
    },
    {
      "cell_type": "code",
      "metadata": {
        "colab": {
          "base_uri": "https://localhost:8080/"
        },
        "id": "J6sBywQHsmTk",
        "outputId": "83b3debc-f43a-4f53-83a2-c0c21efcc4cf"
      },
      "source": [
        "from google.colab import drive\r\n",
        "drive.mount(\"/content/drive\",force_remount = True)"
      ],
      "execution_count": null,
      "outputs": [
        {
          "output_type": "stream",
          "text": [
            "Mounted at /content/drive\n"
          ],
          "name": "stdout"
        }
      ]
    },
    {
      "cell_type": "code",
      "metadata": {
        "id": "XY-geyDUsrBV"
      },
      "source": [
        "files = glob.glob(\"/content/drive/My Drive/audio_train_1ch/*.wav\")\r\n",
        "audio_files = [os.path.basename(file) for file in files]"
      ],
      "execution_count": null,
      "outputs": []
    },
    {
      "cell_type": "markdown",
      "metadata": {
        "id": "gTL4mHIG9rxz"
      },
      "source": [
        "*Saving extracted .npy file of training data into train_data.npy*"
      ]
    },
    {
      "cell_type": "code",
      "metadata": {
        "id": "rB9rXpZK94T0"
      },
      "source": [
        "#X_train = read_audio_files(files)\r\n",
        "#X_train = add_padding(X_train)\r\n",
        "#np.save(\"/content/drive/My Drive/train_data.npy\",X_train)"
      ],
      "execution_count": null,
      "outputs": []
    },
    {
      "cell_type": "markdown",
      "metadata": {
        "id": "RPeabjCH957N"
      },
      "source": [
        "*Loading saved features for training Data*"
      ]
    },
    {
      "cell_type": "code",
      "metadata": {
        "id": "MRqY6o6BsvdQ"
      },
      "source": [
        "train_data = np.load(\"/content/drive/My Drive/train_data.npy\")"
      ],
      "execution_count": null,
      "outputs": []
    },
    {
      "cell_type": "markdown",
      "metadata": {
        "id": "wLfDZfK4-EW3"
      },
      "source": [
        "*Creating Labels for training_data*"
      ]
    },
    {
      "cell_type": "code",
      "metadata": {
        "id": "qgJ3f5FGs1If"
      },
      "source": [
        "Id_labels = read_csv(\"/content/drive/My Drive/labels_train.csv\")\r\n",
        "Label_to_index = {'dog_bark':0, 'air_conditioner':1, 'engine_idling':2, 'siren':3, 'class':4, 'gun_shot':5, 'jackhammer':6, 'drilling':7, 'children_playing':8, 'car_horn':9, 'street_music':10}\r\n",
        "index_to_Label = {0:'dog_bark', 1:'air_conditioner', 2:'engine_idling', 3:'siren', 4:'class', 5:'gun_shot', 6:'jackhammer', 7:'drilling', 8:'children_playing', 9:'car_horn', 10:'street_music'}\r\n",
        "target_data = np.array([Label_to_index[Id_labels[i]] for i in audio_files])"
      ],
      "execution_count": null,
      "outputs": []
    },
    {
      "cell_type": "markdown",
      "metadata": {
        "id": "-giPzBuiv9Yk"
      },
      "source": [
        "# **Preprocessing of test data**"
      ]
    },
    {
      "cell_type": "code",
      "metadata": {
        "id": "WllfIQQps6LK"
      },
      "source": [
        "test_files = glob.glob(\"/content/drive/My Drive/test_task1/feats/*.npy\")\r\n",
        "test_audio_files = [os.path.basename(file)[0:-4] for file in test_files]\r\n",
        "\r\n",
        "fpath =\"/content/drive/My Drive/test_data.npy\"\r\n",
        "npyfilespath =\"/content/drive/My Drive/test_task1/feats\"   \r\n",
        "os.chdir(npyfilespath)\r\n",
        "npfiles = glob.glob(\"/content/drive/My Drive/test_task1/feats/*.npy\")\r\n",
        "all_arrays = []\r\n",
        "for i, npfile in enumerate(npfiles):\r\n",
        "    all_arrays.append(np.load(os.path.join(npyfilespath, npfile)))\r\n",
        "X_test = add_padding(all_arrays)\r\n",
        "np.save(fpath,X_test)\r\n",
        "\r\n",
        "test_data = X_test"
      ],
      "execution_count": null,
      "outputs": []
    },
    {
      "cell_type": "markdown",
      "metadata": {
        "id": "U3Z4tI7a85g0"
      },
      "source": [
        "# **Training**"
      ]
    },
    {
      "cell_type": "code",
      "metadata": {
        "id": "0lzJWSqjmv05"
      },
      "source": [
        "train_data = train_data.reshape(train_data.shape[0],train_data.shape[1],train_data.shape[2],1)\n",
        "X_train, t_train, X_val, t_val = splitData(train_data,target_data,testFraction=0.05)"
      ],
      "execution_count": null,
      "outputs": []
    },
    {
      "cell_type": "code",
      "metadata": {
        "colab": {
          "base_uri": "https://localhost:8080/"
        },
        "id": "invaVmJ-LOJv",
        "outputId": "c388fe46-62b1-450b-c762-9ece497a63cf"
      },
      "source": [
        "if __name__==\"__main__\":\r\n",
        "  model = train(X_train, t_train, X_val,t_val, Nepochs=100)"
      ],
      "execution_count": null,
      "outputs": [
        {
          "output_type": "stream",
          "text": [
            "Epoch 1/100\n",
            "17/17 [==============================] - ETA: 0s - loss: 2.3687 - accuracy: 0.1255\n",
            "Epoch 00001: val_accuracy improved from -inf to 0.06818, saving model to /checkpoint\n",
            "17/17 [==============================] - 15s 853ms/step - loss: 2.3687 - accuracy: 0.1255 - val_loss: 2.2893 - val_accuracy: 0.0682\n",
            "Epoch 2/100\n",
            "17/17 [==============================] - ETA: 0s - loss: 2.1869 - accuracy: 0.1793\n",
            "Epoch 00002: val_accuracy improved from 0.06818 to 0.20455, saving model to /checkpoint\n",
            "17/17 [==============================] - 11s 653ms/step - loss: 2.1869 - accuracy: 0.1793 - val_loss: 2.0957 - val_accuracy: 0.2045\n",
            "Epoch 3/100\n",
            "17/17 [==============================] - ETA: 0s - loss: 2.0872 - accuracy: 0.2319\n",
            "Epoch 00003: val_accuracy did not improve from 0.20455\n",
            "17/17 [==============================] - 11s 654ms/step - loss: 2.0872 - accuracy: 0.2319 - val_loss: 2.0202 - val_accuracy: 0.2045\n",
            "Epoch 4/100\n",
            "17/17 [==============================] - ETA: 0s - loss: 1.9328 - accuracy: 0.3013\n",
            "Epoch 00004: val_accuracy improved from 0.20455 to 0.40909, saving model to /checkpoint\n",
            "17/17 [==============================] - 11s 658ms/step - loss: 1.9328 - accuracy: 0.3013 - val_loss: 1.7375 - val_accuracy: 0.4091\n",
            "Epoch 5/100\n",
            "17/17 [==============================] - ETA: 0s - loss: 1.7194 - accuracy: 0.3963\n",
            "Epoch 00005: val_accuracy improved from 0.40909 to 0.45455, saving model to /checkpoint\n",
            "17/17 [==============================] - 11s 661ms/step - loss: 1.7194 - accuracy: 0.3963 - val_loss: 1.6706 - val_accuracy: 0.4545\n",
            "Epoch 6/100\n",
            "17/17 [==============================] - ETA: 0s - loss: 1.5539 - accuracy: 0.4405\n",
            "Epoch 00006: val_accuracy did not improve from 0.45455\n",
            "17/17 [==============================] - 11s 656ms/step - loss: 1.5539 - accuracy: 0.4405 - val_loss: 1.5819 - val_accuracy: 0.4318\n",
            "Epoch 7/100\n",
            "17/17 [==============================] - ETA: 0s - loss: 1.4338 - accuracy: 0.4943\n",
            "Epoch 00007: val_accuracy improved from 0.45455 to 0.48864, saving model to /checkpoint\n",
            "17/17 [==============================] - 11s 659ms/step - loss: 1.4338 - accuracy: 0.4943 - val_loss: 1.5136 - val_accuracy: 0.4886\n",
            "Epoch 8/100\n",
            "17/17 [==============================] - ETA: 0s - loss: 1.3915 - accuracy: 0.5087\n",
            "Epoch 00008: val_accuracy did not improve from 0.48864\n",
            "17/17 [==============================] - 11s 659ms/step - loss: 1.3915 - accuracy: 0.5087 - val_loss: 1.6094 - val_accuracy: 0.4545\n",
            "Epoch 9/100\n",
            "17/17 [==============================] - ETA: 0s - loss: 1.3244 - accuracy: 0.5284\n",
            "Epoch 00009: val_accuracy improved from 0.48864 to 0.65909, saving model to /checkpoint\n",
            "17/17 [==============================] - 11s 656ms/step - loss: 1.3244 - accuracy: 0.5284 - val_loss: 1.3263 - val_accuracy: 0.6591\n",
            "Epoch 10/100\n",
            "17/17 [==============================] - ETA: 0s - loss: 1.1795 - accuracy: 0.5738\n",
            "Epoch 00010: val_accuracy did not improve from 0.65909\n",
            "17/17 [==============================] - 11s 663ms/step - loss: 1.1795 - accuracy: 0.5738 - val_loss: 1.2272 - val_accuracy: 0.5909\n",
            "Epoch 11/100\n",
            "17/17 [==============================] - ETA: 0s - loss: 1.1171 - accuracy: 0.6145\n",
            "Epoch 00011: val_accuracy did not improve from 0.65909\n",
            "17/17 [==============================] - 11s 660ms/step - loss: 1.1171 - accuracy: 0.6145 - val_loss: 1.0712 - val_accuracy: 0.6477\n",
            "Epoch 12/100\n",
            "17/17 [==============================] - ETA: 0s - loss: 0.9968 - accuracy: 0.6312\n",
            "Epoch 00012: val_accuracy did not improve from 0.65909\n",
            "17/17 [==============================] - 11s 653ms/step - loss: 0.9968 - accuracy: 0.6312 - val_loss: 0.9688 - val_accuracy: 0.6477\n",
            "Epoch 13/100\n",
            "17/17 [==============================] - ETA: 0s - loss: 0.9743 - accuracy: 0.6605\n",
            "Epoch 00013: val_accuracy did not improve from 0.65909\n",
            "17/17 [==============================] - 11s 658ms/step - loss: 0.9743 - accuracy: 0.6605 - val_loss: 1.0388 - val_accuracy: 0.6136\n",
            "Epoch 14/100\n",
            "17/17 [==============================] - ETA: 0s - loss: 0.8750 - accuracy: 0.6964\n",
            "Epoch 00014: val_accuracy improved from 0.65909 to 0.67045, saving model to /checkpoint\n",
            "17/17 [==============================] - 11s 657ms/step - loss: 0.8750 - accuracy: 0.6964 - val_loss: 0.8933 - val_accuracy: 0.6705\n",
            "Epoch 15/100\n",
            "17/17 [==============================] - ETA: 0s - loss: 0.7507 - accuracy: 0.7418\n",
            "Epoch 00015: val_accuracy did not improve from 0.67045\n",
            "17/17 [==============================] - 11s 657ms/step - loss: 0.7507 - accuracy: 0.7418 - val_loss: 1.1101 - val_accuracy: 0.5341\n",
            "Epoch 16/100\n",
            "17/17 [==============================] - ETA: 0s - loss: 0.8311 - accuracy: 0.7053\n",
            "Epoch 00016: val_accuracy improved from 0.67045 to 0.77273, saving model to /checkpoint\n",
            "17/17 [==============================] - 11s 660ms/step - loss: 0.8311 - accuracy: 0.7053 - val_loss: 0.7239 - val_accuracy: 0.7727\n",
            "Epoch 17/100\n",
            "17/17 [==============================] - ETA: 0s - loss: 0.7075 - accuracy: 0.7501\n",
            "Epoch 00017: val_accuracy did not improve from 0.77273\n",
            "17/17 [==============================] - 11s 660ms/step - loss: 0.7075 - accuracy: 0.7501 - val_loss: 0.7275 - val_accuracy: 0.7386\n",
            "Epoch 18/100\n",
            "17/17 [==============================] - ETA: 0s - loss: 0.6788 - accuracy: 0.7663\n",
            "Epoch 00018: val_accuracy improved from 0.77273 to 0.79545, saving model to /checkpoint\n",
            "17/17 [==============================] - 11s 662ms/step - loss: 0.6788 - accuracy: 0.7663 - val_loss: 0.7055 - val_accuracy: 0.7955\n",
            "Epoch 19/100\n",
            "17/17 [==============================] - ETA: 0s - loss: 0.6643 - accuracy: 0.7603\n",
            "Epoch 00019: val_accuracy did not improve from 0.79545\n",
            "17/17 [==============================] - 11s 658ms/step - loss: 0.6643 - accuracy: 0.7603 - val_loss: 0.7227 - val_accuracy: 0.7955\n",
            "Epoch 20/100\n",
            "17/17 [==============================] - ETA: 0s - loss: 0.5886 - accuracy: 0.8063\n",
            "Epoch 00020: val_accuracy did not improve from 0.79545\n",
            "17/17 [==============================] - 11s 662ms/step - loss: 0.5886 - accuracy: 0.8063 - val_loss: 0.9744 - val_accuracy: 0.7273\n",
            "Epoch 21/100\n",
            "17/17 [==============================] - ETA: 0s - loss: 0.6150 - accuracy: 0.7747\n",
            "Epoch 00021: val_accuracy did not improve from 0.79545\n",
            "17/17 [==============================] - 11s 661ms/step - loss: 0.6150 - accuracy: 0.7747 - val_loss: 0.8559 - val_accuracy: 0.7273\n",
            "Epoch 22/100\n",
            "17/17 [==============================] - ETA: 0s - loss: 0.6239 - accuracy: 0.7812\n",
            "Epoch 00022: val_accuracy did not improve from 0.79545\n",
            "17/17 [==============================] - 11s 664ms/step - loss: 0.6239 - accuracy: 0.7812 - val_loss: 0.9329 - val_accuracy: 0.7045\n",
            "Epoch 23/100\n",
            "17/17 [==============================] - ETA: 0s - loss: 0.6508 - accuracy: 0.7836\n",
            "Epoch 00023: val_accuracy did not improve from 0.79545\n",
            "17/17 [==============================] - 11s 661ms/step - loss: 0.6508 - accuracy: 0.7836 - val_loss: 0.7100 - val_accuracy: 0.7727\n",
            "Epoch 24/100\n",
            "17/17 [==============================] - ETA: 0s - loss: 0.5566 - accuracy: 0.8075\n",
            "Epoch 00024: val_accuracy did not improve from 0.79545\n",
            "17/17 [==============================] - 11s 661ms/step - loss: 0.5566 - accuracy: 0.8075 - val_loss: 0.7138 - val_accuracy: 0.7614\n",
            "Epoch 25/100\n",
            "17/17 [==============================] - ETA: 0s - loss: 0.5046 - accuracy: 0.8350\n",
            "Epoch 00025: val_accuracy improved from 0.79545 to 0.81818, saving model to /checkpoint\n",
            "17/17 [==============================] - 11s 660ms/step - loss: 0.5046 - accuracy: 0.8350 - val_loss: 0.6213 - val_accuracy: 0.8182\n",
            "Epoch 26/100\n",
            "17/17 [==============================] - ETA: 0s - loss: 0.4191 - accuracy: 0.8655\n",
            "Epoch 00026: val_accuracy did not improve from 0.81818\n",
            "17/17 [==============================] - 11s 663ms/step - loss: 0.4191 - accuracy: 0.8655 - val_loss: 0.7388 - val_accuracy: 0.8182\n",
            "Epoch 27/100\n",
            "17/17 [==============================] - ETA: 0s - loss: 0.4238 - accuracy: 0.8625\n",
            "Epoch 00027: val_accuracy did not improve from 0.81818\n",
            "17/17 [==============================] - 11s 663ms/step - loss: 0.4238 - accuracy: 0.8625 - val_loss: 0.7311 - val_accuracy: 0.8068\n",
            "Epoch 28/100\n",
            "17/17 [==============================] - ETA: 0s - loss: 0.4287 - accuracy: 0.8601\n",
            "Epoch 00028: val_accuracy improved from 0.81818 to 0.82955, saving model to /checkpoint\n",
            "17/17 [==============================] - 11s 661ms/step - loss: 0.4287 - accuracy: 0.8601 - val_loss: 0.6022 - val_accuracy: 0.8295\n",
            "Epoch 29/100\n",
            "17/17 [==============================] - ETA: 0s - loss: 0.3911 - accuracy: 0.8613\n",
            "Epoch 00029: val_accuracy did not improve from 0.82955\n",
            "17/17 [==============================] - 11s 660ms/step - loss: 0.3911 - accuracy: 0.8613 - val_loss: 0.6325 - val_accuracy: 0.8182\n",
            "Epoch 30/100\n",
            "17/17 [==============================] - ETA: 0s - loss: 0.4537 - accuracy: 0.8470\n",
            "Epoch 00030: val_accuracy did not improve from 0.82955\n",
            "17/17 [==============================] - 11s 662ms/step - loss: 0.4537 - accuracy: 0.8470 - val_loss: 0.6311 - val_accuracy: 0.8182\n",
            "Epoch 31/100\n",
            "17/17 [==============================] - ETA: 0s - loss: 0.4431 - accuracy: 0.8512\n",
            "Epoch 00031: val_accuracy improved from 0.82955 to 0.86364, saving model to /checkpoint\n",
            "17/17 [==============================] - 11s 663ms/step - loss: 0.4431 - accuracy: 0.8512 - val_loss: 0.5280 - val_accuracy: 0.8636\n",
            "Epoch 32/100\n",
            "17/17 [==============================] - ETA: 0s - loss: 0.3733 - accuracy: 0.8745\n",
            "Epoch 00032: val_accuracy did not improve from 0.86364\n",
            "17/17 [==============================] - 11s 663ms/step - loss: 0.3733 - accuracy: 0.8745 - val_loss: 0.7235 - val_accuracy: 0.8068\n",
            "Epoch 33/100\n",
            "17/17 [==============================] - ETA: 0s - loss: 0.3652 - accuracy: 0.8763\n",
            "Epoch 00033: val_accuracy improved from 0.86364 to 0.87500, saving model to /checkpoint\n",
            "17/17 [==============================] - 11s 665ms/step - loss: 0.3652 - accuracy: 0.8763 - val_loss: 0.5449 - val_accuracy: 0.8750\n",
            "Epoch 34/100\n",
            "17/17 [==============================] - ETA: 0s - loss: 0.3170 - accuracy: 0.8966\n",
            "Epoch 00034: val_accuracy did not improve from 0.87500\n",
            "17/17 [==============================] - 11s 658ms/step - loss: 0.3170 - accuracy: 0.8966 - val_loss: 0.5930 - val_accuracy: 0.8523\n",
            "Epoch 35/100\n",
            "17/17 [==============================] - ETA: 0s - loss: 0.3731 - accuracy: 0.8685\n",
            "Epoch 00035: val_accuracy did not improve from 0.87500\n",
            "17/17 [==============================] - 11s 657ms/step - loss: 0.3731 - accuracy: 0.8685 - val_loss: 0.6066 - val_accuracy: 0.8295\n",
            "Epoch 36/100\n",
            "17/17 [==============================] - ETA: 0s - loss: 0.3629 - accuracy: 0.8787\n",
            "Epoch 00036: val_accuracy did not improve from 0.87500\n",
            "17/17 [==============================] - 11s 660ms/step - loss: 0.3629 - accuracy: 0.8787 - val_loss: 0.5889 - val_accuracy: 0.8636\n",
            "Epoch 37/100\n",
            "17/17 [==============================] - ETA: 0s - loss: 0.5051 - accuracy: 0.8326\n",
            "Epoch 00037: val_accuracy did not improve from 0.87500\n",
            "17/17 [==============================] - 11s 661ms/step - loss: 0.5051 - accuracy: 0.8326 - val_loss: 0.5083 - val_accuracy: 0.8068\n",
            "Epoch 38/100\n",
            "17/17 [==============================] - ETA: 0s - loss: 0.3498 - accuracy: 0.8864\n",
            "Epoch 00038: val_accuracy did not improve from 0.87500\n",
            "17/17 [==============================] - 11s 657ms/step - loss: 0.3498 - accuracy: 0.8864 - val_loss: 0.4769 - val_accuracy: 0.8523\n",
            "Epoch 39/100\n",
            "17/17 [==============================] - ETA: 0s - loss: 0.3144 - accuracy: 0.9032\n",
            "Epoch 00039: val_accuracy did not improve from 0.87500\n",
            "17/17 [==============================] - 11s 658ms/step - loss: 0.3144 - accuracy: 0.9032 - val_loss: 0.5594 - val_accuracy: 0.8409\n",
            "Epoch 40/100\n",
            "17/17 [==============================] - ETA: 0s - loss: 0.3781 - accuracy: 0.8805\n",
            "Epoch 00040: val_accuracy did not improve from 0.87500\n",
            "17/17 [==============================] - 11s 661ms/step - loss: 0.3781 - accuracy: 0.8805 - val_loss: 0.6555 - val_accuracy: 0.8068\n",
            "Epoch 41/100\n",
            "17/17 [==============================] - ETA: 0s - loss: 0.3526 - accuracy: 0.8882\n",
            "Epoch 00041: val_accuracy did not improve from 0.87500\n",
            "17/17 [==============================] - 11s 661ms/step - loss: 0.3526 - accuracy: 0.8882 - val_loss: 0.5880 - val_accuracy: 0.7841\n",
            "Epoch 42/100\n",
            "17/17 [==============================] - ETA: 0s - loss: 0.3183 - accuracy: 0.8978\n",
            "Epoch 00042: val_accuracy did not improve from 0.87500\n",
            "17/17 [==============================] - 11s 657ms/step - loss: 0.3183 - accuracy: 0.8978 - val_loss: 0.4633 - val_accuracy: 0.8523\n",
            "Epoch 43/100\n",
            "17/17 [==============================] - ETA: 0s - loss: 0.2670 - accuracy: 0.9085\n",
            "Epoch 00043: val_accuracy did not improve from 0.87500\n",
            "17/17 [==============================] - 11s 656ms/step - loss: 0.2670 - accuracy: 0.9085 - val_loss: 0.4589 - val_accuracy: 0.8523\n",
            "Epoch 44/100\n",
            "17/17 [==============================] - ETA: 0s - loss: 0.2763 - accuracy: 0.9109\n",
            "Epoch 00044: val_accuracy did not improve from 0.87500\n",
            "17/17 [==============================] - 11s 661ms/step - loss: 0.2763 - accuracy: 0.9109 - val_loss: 0.4610 - val_accuracy: 0.8636\n",
            "Epoch 45/100\n",
            "17/17 [==============================] - ETA: 0s - loss: 0.2472 - accuracy: 0.9175\n",
            "Epoch 00045: val_accuracy did not improve from 0.87500\n",
            "17/17 [==============================] - 11s 659ms/step - loss: 0.2472 - accuracy: 0.9175 - val_loss: 0.5804 - val_accuracy: 0.7841\n",
            "Epoch 46/100\n",
            "17/17 [==============================] - ETA: 0s - loss: 0.2468 - accuracy: 0.9157\n",
            "Epoch 00046: val_accuracy did not improve from 0.87500\n",
            "17/17 [==============================] - 11s 661ms/step - loss: 0.2468 - accuracy: 0.9157 - val_loss: 0.5854 - val_accuracy: 0.8523\n",
            "Epoch 47/100\n",
            "17/17 [==============================] - ETA: 0s - loss: 0.2558 - accuracy: 0.9253\n",
            "Epoch 00047: val_accuracy improved from 0.87500 to 0.88636, saving model to /checkpoint\n",
            "17/17 [==============================] - 11s 664ms/step - loss: 0.2558 - accuracy: 0.9253 - val_loss: 0.3787 - val_accuracy: 0.8864\n",
            "Epoch 48/100\n",
            "17/17 [==============================] - ETA: 0s - loss: 0.3096 - accuracy: 0.9032\n",
            "Epoch 00048: val_accuracy did not improve from 0.88636\n",
            "17/17 [==============================] - 11s 658ms/step - loss: 0.3096 - accuracy: 0.9032 - val_loss: 0.5229 - val_accuracy: 0.8636\n",
            "Epoch 49/100\n",
            "17/17 [==============================] - ETA: 0s - loss: 0.2785 - accuracy: 0.9050\n",
            "Epoch 00049: val_accuracy did not improve from 0.88636\n",
            "17/17 [==============================] - 11s 664ms/step - loss: 0.2785 - accuracy: 0.9050 - val_loss: 0.4909 - val_accuracy: 0.8750\n",
            "Epoch 50/100\n",
            "17/17 [==============================] - ETA: 0s - loss: 0.2805 - accuracy: 0.9109\n",
            "Epoch 00050: val_accuracy did not improve from 0.88636\n",
            "17/17 [==============================] - 11s 663ms/step - loss: 0.2805 - accuracy: 0.9109 - val_loss: 0.9593 - val_accuracy: 0.7955\n",
            "Epoch 51/100\n",
            "17/17 [==============================] - ETA: 0s - loss: 0.2609 - accuracy: 0.9097\n",
            "Epoch 00051: val_accuracy did not improve from 0.88636\n",
            "17/17 [==============================] - 11s 662ms/step - loss: 0.2609 - accuracy: 0.9097 - val_loss: 0.4458 - val_accuracy: 0.8636\n",
            "Epoch 52/100\n",
            "17/17 [==============================] - ETA: 0s - loss: 0.1928 - accuracy: 0.9331\n",
            "Epoch 00052: val_accuracy did not improve from 0.88636\n",
            "17/17 [==============================] - 11s 659ms/step - loss: 0.1928 - accuracy: 0.9331 - val_loss: 0.3306 - val_accuracy: 0.8864\n",
            "Epoch 53/100\n",
            "17/17 [==============================] - ETA: 0s - loss: 0.2438 - accuracy: 0.9169\n",
            "Epoch 00053: val_accuracy did not improve from 0.88636\n",
            "17/17 [==============================] - 11s 659ms/step - loss: 0.2438 - accuracy: 0.9169 - val_loss: 0.5865 - val_accuracy: 0.8523\n",
            "Epoch 54/100\n",
            "17/17 [==============================] - ETA: 0s - loss: 0.2085 - accuracy: 0.9301\n",
            "Epoch 00054: val_accuracy did not improve from 0.88636\n",
            "17/17 [==============================] - 11s 657ms/step - loss: 0.2085 - accuracy: 0.9301 - val_loss: 0.4136 - val_accuracy: 0.8636\n",
            "Epoch 55/100\n",
            "17/17 [==============================] - ETA: 0s - loss: 0.1958 - accuracy: 0.9313\n",
            "Epoch 00055: val_accuracy did not improve from 0.88636\n",
            "17/17 [==============================] - 11s 655ms/step - loss: 0.1958 - accuracy: 0.9313 - val_loss: 0.4068 - val_accuracy: 0.8409\n",
            "Epoch 56/100\n",
            "17/17 [==============================] - ETA: 0s - loss: 0.2221 - accuracy: 0.9301\n",
            "Epoch 00056: val_accuracy did not improve from 0.88636\n",
            "17/17 [==============================] - 11s 661ms/step - loss: 0.2221 - accuracy: 0.9301 - val_loss: 0.4783 - val_accuracy: 0.8523\n",
            "Epoch 57/100\n",
            "17/17 [==============================] - ETA: 0s - loss: 0.2115 - accuracy: 0.9301\n",
            "Epoch 00057: val_accuracy did not improve from 0.88636\n",
            "17/17 [==============================] - 11s 658ms/step - loss: 0.2115 - accuracy: 0.9301 - val_loss: 0.4117 - val_accuracy: 0.8750\n",
            "Epoch 58/100\n",
            "17/17 [==============================] - ETA: 0s - loss: 0.1836 - accuracy: 0.9426\n",
            "Epoch 00058: val_accuracy did not improve from 0.88636\n",
            "17/17 [==============================] - 11s 662ms/step - loss: 0.1836 - accuracy: 0.9426 - val_loss: 0.4168 - val_accuracy: 0.8636\n",
            "Epoch 59/100\n",
            "17/17 [==============================] - ETA: 0s - loss: 0.1786 - accuracy: 0.9390\n",
            "Epoch 00059: val_accuracy did not improve from 0.88636\n",
            "17/17 [==============================] - 11s 662ms/step - loss: 0.1786 - accuracy: 0.9390 - val_loss: 0.4689 - val_accuracy: 0.8409\n",
            "Epoch 60/100\n",
            "17/17 [==============================] - ETA: 0s - loss: 0.2375 - accuracy: 0.9235\n",
            "Epoch 00060: val_accuracy did not improve from 0.88636\n",
            "17/17 [==============================] - 11s 659ms/step - loss: 0.2375 - accuracy: 0.9235 - val_loss: 0.4082 - val_accuracy: 0.8636\n",
            "Epoch 61/100\n",
            "17/17 [==============================] - ETA: 0s - loss: 0.2884 - accuracy: 0.8996\n",
            "Epoch 00061: val_accuracy did not improve from 0.88636\n",
            "17/17 [==============================] - 11s 659ms/step - loss: 0.2884 - accuracy: 0.8996 - val_loss: 0.3841 - val_accuracy: 0.8182\n",
            "Epoch 62/100\n",
            "17/17 [==============================] - ETA: 0s - loss: 0.2023 - accuracy: 0.9319\n",
            "Epoch 00062: val_accuracy did not improve from 0.88636\n",
            "17/17 [==============================] - 11s 658ms/step - loss: 0.2023 - accuracy: 0.9319 - val_loss: 0.3854 - val_accuracy: 0.8750\n",
            "Epoch 63/100\n",
            "17/17 [==============================] - ETA: 0s - loss: 0.1662 - accuracy: 0.9438\n",
            "Epoch 00063: val_accuracy did not improve from 0.88636\n",
            "17/17 [==============================] - 11s 660ms/step - loss: 0.1662 - accuracy: 0.9438 - val_loss: 0.2949 - val_accuracy: 0.8523\n",
            "Epoch 64/100\n",
            "17/17 [==============================] - ETA: 0s - loss: 0.2428 - accuracy: 0.9187\n",
            "Epoch 00064: val_accuracy did not improve from 0.88636\n",
            "17/17 [==============================] - 11s 655ms/step - loss: 0.2428 - accuracy: 0.9187 - val_loss: 0.4604 - val_accuracy: 0.8523\n",
            "Epoch 65/100\n",
            "17/17 [==============================] - ETA: 0s - loss: 0.1850 - accuracy: 0.9372\n",
            "Epoch 00065: val_accuracy did not improve from 0.88636\n",
            "17/17 [==============================] - 11s 657ms/step - loss: 0.1850 - accuracy: 0.9372 - val_loss: 0.4192 - val_accuracy: 0.8636\n",
            "Epoch 66/100\n",
            "17/17 [==============================] - ETA: 0s - loss: 0.1420 - accuracy: 0.9534\n",
            "Epoch 00066: val_accuracy did not improve from 0.88636\n",
            "17/17 [==============================] - 11s 663ms/step - loss: 0.1420 - accuracy: 0.9534 - val_loss: 0.3180 - val_accuracy: 0.8864\n",
            "Epoch 67/100\n",
            "17/17 [==============================] - ETA: 0s - loss: 0.1603 - accuracy: 0.9438\n",
            "Epoch 00067: val_accuracy did not improve from 0.88636\n",
            "17/17 [==============================] - 11s 663ms/step - loss: 0.1603 - accuracy: 0.9438 - val_loss: 0.4333 - val_accuracy: 0.8864\n",
            "Epoch 68/100\n",
            "17/17 [==============================] - ETA: 0s - loss: 0.1876 - accuracy: 0.9396\n",
            "Epoch 00068: val_accuracy did not improve from 0.88636\n",
            "17/17 [==============================] - 11s 656ms/step - loss: 0.1876 - accuracy: 0.9396 - val_loss: 0.3799 - val_accuracy: 0.8750\n",
            "Epoch 69/100\n",
            "17/17 [==============================] - ETA: 0s - loss: 0.1794 - accuracy: 0.9414\n",
            "Epoch 00069: val_accuracy did not improve from 0.88636\n",
            "17/17 [==============================] - 11s 657ms/step - loss: 0.1794 - accuracy: 0.9414 - val_loss: 0.6680 - val_accuracy: 0.8864\n",
            "Epoch 70/100\n",
            "17/17 [==============================] - ETA: 0s - loss: 0.1924 - accuracy: 0.9444\n",
            "Epoch 00070: val_accuracy improved from 0.88636 to 0.89773, saving model to /checkpoint\n",
            "17/17 [==============================] - 11s 659ms/step - loss: 0.1924 - accuracy: 0.9444 - val_loss: 0.3598 - val_accuracy: 0.8977\n",
            "Epoch 71/100\n",
            "17/17 [==============================] - ETA: 0s - loss: 0.1550 - accuracy: 0.9426\n",
            "Epoch 00071: val_accuracy did not improve from 0.89773\n",
            "17/17 [==============================] - 11s 660ms/step - loss: 0.1550 - accuracy: 0.9426 - val_loss: 0.3568 - val_accuracy: 0.8864\n",
            "Epoch 72/100\n",
            "17/17 [==============================] - ETA: 0s - loss: 0.1529 - accuracy: 0.9534\n",
            "Epoch 00072: val_accuracy did not improve from 0.89773\n",
            "17/17 [==============================] - 11s 660ms/step - loss: 0.1529 - accuracy: 0.9534 - val_loss: 0.3686 - val_accuracy: 0.8864\n",
            "Epoch 73/100\n",
            "17/17 [==============================] - ETA: 0s - loss: 0.1387 - accuracy: 0.9540\n",
            "Epoch 00073: val_accuracy did not improve from 0.89773\n",
            "17/17 [==============================] - 11s 666ms/step - loss: 0.1387 - accuracy: 0.9540 - val_loss: 0.6423 - val_accuracy: 0.8182\n",
            "Epoch 74/100\n",
            "17/17 [==============================] - ETA: 0s - loss: 0.2338 - accuracy: 0.9313\n",
            "Epoch 00074: val_accuracy did not improve from 0.89773\n",
            "17/17 [==============================] - 11s 664ms/step - loss: 0.2338 - accuracy: 0.9313 - val_loss: 0.6029 - val_accuracy: 0.8636\n",
            "Epoch 75/100\n",
            "17/17 [==============================] - ETA: 0s - loss: 0.2003 - accuracy: 0.9408\n",
            "Epoch 00075: val_accuracy did not improve from 0.89773\n",
            "17/17 [==============================] - 11s 655ms/step - loss: 0.2003 - accuracy: 0.9408 - val_loss: 0.4148 - val_accuracy: 0.8750\n",
            "Epoch 76/100\n",
            "17/17 [==============================] - ETA: 0s - loss: 0.2864 - accuracy: 0.9319\n",
            "Epoch 00076: val_accuracy did not improve from 0.89773\n",
            "17/17 [==============================] - 11s 659ms/step - loss: 0.2864 - accuracy: 0.9319 - val_loss: 0.7240 - val_accuracy: 0.8409\n",
            "Epoch 77/100\n",
            "17/17 [==============================] - ETA: 0s - loss: 0.5569 - accuracy: 0.8548\n",
            "Epoch 00077: val_accuracy did not improve from 0.89773\n",
            "17/17 [==============================] - 11s 656ms/step - loss: 0.5569 - accuracy: 0.8548 - val_loss: 0.7171 - val_accuracy: 0.8068\n",
            "Epoch 78/100\n",
            "17/17 [==============================] - ETA: 0s - loss: 0.2970 - accuracy: 0.8996\n",
            "Epoch 00078: val_accuracy did not improve from 0.89773\n",
            "17/17 [==============================] - 11s 658ms/step - loss: 0.2970 - accuracy: 0.8996 - val_loss: 0.4075 - val_accuracy: 0.8636\n",
            "Epoch 79/100\n",
            "17/17 [==============================] - ETA: 0s - loss: 0.2318 - accuracy: 0.9247\n",
            "Epoch 00079: val_accuracy did not improve from 0.89773\n",
            "17/17 [==============================] - 11s 658ms/step - loss: 0.2318 - accuracy: 0.9247 - val_loss: 0.3560 - val_accuracy: 0.8750\n",
            "Epoch 80/100\n",
            "17/17 [==============================] - ETA: 0s - loss: 0.2087 - accuracy: 0.9295\n",
            "Epoch 00080: val_accuracy did not improve from 0.89773\n",
            "17/17 [==============================] - 11s 659ms/step - loss: 0.2087 - accuracy: 0.9295 - val_loss: 0.3795 - val_accuracy: 0.8977\n",
            "Epoch 81/100\n",
            "17/17 [==============================] - ETA: 0s - loss: 0.1562 - accuracy: 0.9504\n",
            "Epoch 00081: val_accuracy improved from 0.89773 to 0.90909, saving model to /checkpoint\n",
            "17/17 [==============================] - 11s 663ms/step - loss: 0.1562 - accuracy: 0.9504 - val_loss: 0.2518 - val_accuracy: 0.9091\n",
            "Epoch 82/100\n",
            "17/17 [==============================] - ETA: 0s - loss: 0.1566 - accuracy: 0.9498\n",
            "Epoch 00082: val_accuracy did not improve from 0.90909\n",
            "17/17 [==============================] - 11s 662ms/step - loss: 0.1566 - accuracy: 0.9498 - val_loss: 0.2889 - val_accuracy: 0.9091\n",
            "Epoch 83/100\n",
            "17/17 [==============================] - ETA: 0s - loss: 0.1169 - accuracy: 0.9594\n",
            "Epoch 00083: val_accuracy did not improve from 0.90909\n",
            "17/17 [==============================] - 11s 661ms/step - loss: 0.1169 - accuracy: 0.9594 - val_loss: 0.3807 - val_accuracy: 0.8864\n",
            "Epoch 84/100\n",
            "17/17 [==============================] - ETA: 0s - loss: 0.1157 - accuracy: 0.9623\n",
            "Epoch 00084: val_accuracy improved from 0.90909 to 0.92045, saving model to /checkpoint\n",
            "17/17 [==============================] - 11s 660ms/step - loss: 0.1157 - accuracy: 0.9623 - val_loss: 0.3062 - val_accuracy: 0.9205\n",
            "Epoch 85/100\n",
            "17/17 [==============================] - ETA: 0s - loss: 0.1842 - accuracy: 0.9390\n",
            "Epoch 00085: val_accuracy did not improve from 0.92045\n",
            "17/17 [==============================] - 11s 656ms/step - loss: 0.1842 - accuracy: 0.9390 - val_loss: 0.2691 - val_accuracy: 0.8977\n",
            "Epoch 86/100\n",
            "17/17 [==============================] - ETA: 0s - loss: 0.1303 - accuracy: 0.9546\n",
            "Epoch 00086: val_accuracy improved from 0.92045 to 0.93182, saving model to /checkpoint\n",
            "17/17 [==============================] - 11s 662ms/step - loss: 0.1303 - accuracy: 0.9546 - val_loss: 0.2632 - val_accuracy: 0.9318\n",
            "Epoch 87/100\n",
            "17/17 [==============================] - ETA: 0s - loss: 0.1249 - accuracy: 0.9546\n",
            "Epoch 00087: val_accuracy did not improve from 0.93182\n",
            "17/17 [==============================] - 11s 662ms/step - loss: 0.1249 - accuracy: 0.9546 - val_loss: 0.3482 - val_accuracy: 0.8864\n",
            "Epoch 88/100\n",
            "17/17 [==============================] - ETA: 0s - loss: 0.0909 - accuracy: 0.9689\n",
            "Epoch 00088: val_accuracy did not improve from 0.93182\n",
            "17/17 [==============================] - 11s 663ms/step - loss: 0.0909 - accuracy: 0.9689 - val_loss: 0.4666 - val_accuracy: 0.8977\n",
            "Epoch 89/100\n",
            "17/17 [==============================] - ETA: 0s - loss: 0.1033 - accuracy: 0.9647\n",
            "Epoch 00089: val_accuracy did not improve from 0.93182\n",
            "17/17 [==============================] - 11s 656ms/step - loss: 0.1033 - accuracy: 0.9647 - val_loss: 0.4950 - val_accuracy: 0.8750\n",
            "Epoch 90/100\n",
            "17/17 [==============================] - ETA: 0s - loss: 0.1174 - accuracy: 0.9600\n",
            "Epoch 00090: val_accuracy did not improve from 0.93182\n",
            "17/17 [==============================] - 11s 657ms/step - loss: 0.1174 - accuracy: 0.9600 - val_loss: 0.2762 - val_accuracy: 0.8864\n",
            "Epoch 91/100\n",
            "17/17 [==============================] - ETA: 0s - loss: 0.2115 - accuracy: 0.9348\n",
            "Epoch 00091: val_accuracy did not improve from 0.93182\n",
            "17/17 [==============================] - 11s 659ms/step - loss: 0.2115 - accuracy: 0.9348 - val_loss: 0.5777 - val_accuracy: 0.9091\n",
            "Epoch 92/100\n",
            "17/17 [==============================] - ETA: 0s - loss: 0.2919 - accuracy: 0.9127\n",
            "Epoch 00092: val_accuracy did not improve from 0.93182\n",
            "17/17 [==============================] - 11s 657ms/step - loss: 0.2919 - accuracy: 0.9127 - val_loss: 0.5793 - val_accuracy: 0.8182\n",
            "Epoch 93/100\n",
            "17/17 [==============================] - ETA: 0s - loss: 0.1859 - accuracy: 0.9390\n",
            "Epoch 00093: val_accuracy did not improve from 0.93182\n",
            "17/17 [==============================] - 11s 658ms/step - loss: 0.1859 - accuracy: 0.9390 - val_loss: 0.6348 - val_accuracy: 0.8636\n",
            "Epoch 94/100\n",
            "17/17 [==============================] - ETA: 0s - loss: 0.2085 - accuracy: 0.9348\n",
            "Epoch 00094: val_accuracy did not improve from 0.93182\n",
            "17/17 [==============================] - 11s 660ms/step - loss: 0.2085 - accuracy: 0.9348 - val_loss: 0.4464 - val_accuracy: 0.8864\n",
            "Epoch 95/100\n",
            "17/17 [==============================] - ETA: 0s - loss: 0.1356 - accuracy: 0.9552\n",
            "Epoch 00095: val_accuracy did not improve from 0.93182\n",
            "17/17 [==============================] - 11s 657ms/step - loss: 0.1356 - accuracy: 0.9552 - val_loss: 0.3404 - val_accuracy: 0.8750\n",
            "Epoch 96/100\n",
            "17/17 [==============================] - ETA: 0s - loss: 0.1701 - accuracy: 0.9528\n",
            "Epoch 00096: val_accuracy did not improve from 0.93182\n",
            "17/17 [==============================] - 11s 657ms/step - loss: 0.1701 - accuracy: 0.9528 - val_loss: 0.4112 - val_accuracy: 0.8750\n",
            "Epoch 97/100\n",
            "17/17 [==============================] - ETA: 0s - loss: 0.1449 - accuracy: 0.9474\n",
            "Epoch 00097: val_accuracy did not improve from 0.93182\n",
            "17/17 [==============================] - 11s 663ms/step - loss: 0.1449 - accuracy: 0.9474 - val_loss: 0.6097 - val_accuracy: 0.8750\n",
            "Epoch 98/100\n",
            "17/17 [==============================] - ETA: 0s - loss: 0.1594 - accuracy: 0.9420\n",
            "Epoch 00098: val_accuracy did not improve from 0.93182\n",
            "17/17 [==============================] - 11s 658ms/step - loss: 0.1594 - accuracy: 0.9420 - val_loss: 0.4374 - val_accuracy: 0.8523\n",
            "Epoch 99/100\n",
            "17/17 [==============================] - ETA: 0s - loss: 0.0995 - accuracy: 0.9629\n",
            "Epoch 00099: val_accuracy did not improve from 0.93182\n",
            "17/17 [==============================] - 11s 660ms/step - loss: 0.0995 - accuracy: 0.9629 - val_loss: 0.3486 - val_accuracy: 0.9205\n",
            "Epoch 100/100\n",
            "17/17 [==============================] - ETA: 0s - loss: 0.1127 - accuracy: 0.9617\n",
            "Epoch 00100: val_accuracy did not improve from 0.93182\n",
            "17/17 [==============================] - 11s 656ms/step - loss: 0.1127 - accuracy: 0.9617 - val_loss: 0.2514 - val_accuracy: 0.8977\n"
          ],
          "name": "stdout"
        }
      ]
    },
    {
      "cell_type": "markdown",
      "metadata": {
        "id": "fPUQ0_hu8-Ud"
      },
      "source": [
        "**Test on Validation Dataset**"
      ]
    },
    {
      "cell_type": "code",
      "metadata": {
        "colab": {
          "base_uri": "https://localhost:8080/"
        },
        "id": "7xQjKY1XuYJF",
        "outputId": "f37839da-de53-4032-d54a-8d9f8c52f04a"
      },
      "source": [
        "model.load_weights(\"/checkpoint\")\r\n",
        "model.evaluate(X_val, t_val)\r\n",
        "\r\n",
        "y = predict(model,X_val)\r\n",
        "print(evaluate(y,t_val))"
      ],
      "execution_count": 77,
      "outputs": [
        {
          "output_type": "stream",
          "text": [
            "3/3 [==============================] - 0s 53ms/step - loss: 0.2632 - accuracy: 0.9318\n",
            "[[11  0  1  0  0  1  0  1  0  0  0]\n",
            " [ 0 10  1  0  0  0  0  0  0  0  0]\n",
            " [ 0  1 11  0  0  0  0  0  0  0  0]\n",
            " [ 0  0  0  4  0  0  0  0  0  0  0]\n",
            " [ 0  0  0  0  0  0  0  0  0  0  0]\n",
            " [ 0  0  0  0  0  5  0  0  0  0  0]\n",
            " [ 0  0  0  0  0  0 12  0  0  0  0]\n",
            " [ 0  0  0  0  0  0  0  6  0  0  0]\n",
            " [ 0  0  0  0  0  0  0  0  7  0  0]\n",
            " [ 0  0  0  0  0  0  0  0  0  4  0]\n",
            " [ 0  0  1  0  0  0  0  0  0  0 12]]\n"
          ],
          "name": "stdout"
        }
      ]
    },
    {
      "cell_type": "markdown",
      "metadata": {
        "id": "fWFEnEQO9Miy"
      },
      "source": [
        "# **Prediction on Test Data**"
      ]
    },
    {
      "cell_type": "code",
      "metadata": {
        "id": "YdSVRNKd9RFh"
      },
      "source": [
        "test_data = test_data.reshape(test_data.shape[0],test_data.shape[1],test_data.shape[2],1)\r\n",
        "y_pred = predict(model, test_data)"
      ],
      "execution_count": null,
      "outputs": []
    },
    {
      "cell_type": "markdown",
      "metadata": {
        "id": "NQIVXjIExutM"
      },
      "source": [
        "# **Save keys to csv file**"
      ]
    },
    {
      "cell_type": "code",
      "metadata": {
        "id": "ESg9mpdRmv06"
      },
      "source": [
        "def getKeysByValue(dictOfElements, valueToFind):\r\n",
        "    keys = 'happy'\r\n",
        "    listOfItems = dictOfElements.items()\r\n",
        "    for item  in listOfItems:\r\n",
        "        if item[1] == valueToFind:\r\n",
        "            keys = item[0]\r\n",
        "    return  keys\r\n",
        "\r\n",
        "\r\n",
        "prediction_event = list()\r\n",
        "prediction_key = np.argmax(y_pred, axis=1)\r\n",
        "for i in range(len(prediction_key)):\r\n",
        "  key_list = getKeysByValue(Label_to_index, prediction_key[i])\r\n",
        "  prediction_event.append(key_list)\r\n",
        "prediction_dict = dict(zip(test_audio_files, prediction_event)) \r\n",
        "\r\n",
        "\r\n",
        "filename = '/content/drive/MyDrive/task1.csv'\r\n",
        "with open(filename, 'w') as f:\r\n",
        "    for key in prediction_dict.keys():\r\n",
        "        f.write(\"%s,%s\\n\" % (key, prediction_dict[key]))"
      ],
      "execution_count": null,
      "outputs": []
    }
  ]
}