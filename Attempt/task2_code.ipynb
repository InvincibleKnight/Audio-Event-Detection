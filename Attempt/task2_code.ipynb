{
  "nbformat": 4,
  "nbformat_minor": 0,
  "metadata": {
    "colab": {
      "name": "AED2.ipynb",
      "provenance": [],
      "toc_visible": true
    },
    "kernelspec": {
      "display_name": "Python 3",
      "language": "python",
      "name": "python3"
    },
    "language_info": {
      "codemirror_mode": {
        "name": "ipython",
        "version": 3
      },
      "file_extension": ".py",
      "mimetype": "text/x-python",
      "name": "python",
      "nbconvert_exporter": "python",
      "pygments_lexer": "ipython3",
      "version": "3.7.8"
    },
    "accelerator": "GPU"
  },
  "cells": [
    {
      "cell_type": "code",
      "metadata": {
        "colab": {
          "base_uri": "https://localhost:8080/"
        },
        "id": "AC8dpQ6NFRFo",
        "outputId": "9d24a74a-574b-45ee-8214-1ff1b13d011c"
      },
      "source": [
        "pip install python-levenshtein"
      ],
      "execution_count": 1,
      "outputs": [
        {
          "output_type": "stream",
          "text": [
            "Collecting python-levenshtein\n",
            "\u001b[?25l  Downloading https://files.pythonhosted.org/packages/42/a9/d1785c85ebf9b7dfacd08938dd028209c34a0ea3b1bcdb895208bd40a67d/python-Levenshtein-0.12.0.tar.gz (48kB)\n",
            "\r\u001b[K     |██████▊                         | 10kB 16.2MB/s eta 0:00:01\r\u001b[K     |█████████████▌                  | 20kB 9.4MB/s eta 0:00:01\r\u001b[K     |████████████████████▏           | 30kB 7.4MB/s eta 0:00:01\r\u001b[K     |███████████████████████████     | 40kB 7.4MB/s eta 0:00:01\r\u001b[K     |████████████████████████████████| 51kB 4.0MB/s \n",
            "\u001b[?25hRequirement already satisfied: setuptools in /usr/local/lib/python3.6/dist-packages (from python-levenshtein) (50.3.2)\n",
            "Building wheels for collected packages: python-levenshtein\n",
            "  Building wheel for python-levenshtein (setup.py) ... \u001b[?25l\u001b[?25hdone\n",
            "  Created wheel for python-levenshtein: filename=python_Levenshtein-0.12.0-cp36-cp36m-linux_x86_64.whl size=144797 sha256=dd42f6893ef9e0cfc77e09cfe729e209d9ce756c766f9e11932b391f635e3245\n",
            "  Stored in directory: /root/.cache/pip/wheels/de/c2/93/660fd5f7559049268ad2dc6d81c4e39e9e36518766eaf7e342\n",
            "Successfully built python-levenshtein\n",
            "Installing collected packages: python-levenshtein\n",
            "Successfully installed python-levenshtein-0.12.0\n"
          ],
          "name": "stdout"
        }
      ]
    },
    {
      "cell_type": "markdown",
      "metadata": {
        "id": "HygTHCNaaGoD"
      },
      "source": [
        "#   **Importing Libraries**"
      ]
    },
    {
      "cell_type": "code",
      "metadata": {
        "id": "CSbpqgXBmv05"
      },
      "source": [
        "import librosa\n",
        "import math\n",
        "import numpy as np\n",
        "import pdb\n",
        "import string\n",
        "from Levenshtein import distance\n",
        "import csv, os, glob\n",
        "from tensorflow import keras\n",
        "import matplotlib.pyplot as plt\n",
        "import librosa.display\n",
        "import pickle\n",
        "\n",
        "import tensorflow as tf\n",
        "from tensorflow import keras\n",
        "from keras.models import Sequential\n",
        "from keras.layers import Dense,Dropout,MaxPooling2D,Conv2D,GlobalAveragePooling2D"
      ],
      "execution_count": 2,
      "outputs": []
    },
    {
      "cell_type": "markdown",
      "metadata": {
        "id": "i-uY69qW0Dc2"
      },
      "source": [
        "## **Time step taken**"
      ]
    },
    {
      "cell_type": "code",
      "metadata": {
        "id": "r_8B99XmG8Po"
      },
      "source": [
        "time_step = 201"
      ],
      "execution_count": 3,
      "outputs": []
    },
    {
      "cell_type": "markdown",
      "metadata": {
        "id": "z_fpG9zpaifd"
      },
      "source": [
        "# **Functions provided in utils.py**"
      ]
    },
    {
      "cell_type": "code",
      "metadata": {
        "id": "sGZAtGUUmv05"
      },
      "source": [
        "def wav2feat(wavfile):\n",
        "    '''\n",
        "    Input: audio wav file name\n",
        "    Output: Magnitude spectrogram\n",
        "    '''\n",
        "    x, Fs = librosa.load(wavfile, sr=44100, mono=True) \n",
        "    hop = int(0.01 * Fs) # 10ms\n",
        "    win = int(0.02 * Fs) # 20ms\n",
        "    X = librosa.stft(x, n_fft=1024, hop_length=hop, win_length=win, window='hann', center=True, pad_mode='reflect')\n",
        "    return np.abs(X)\n",
        "\n",
        "def wavs2feat(wavfiles):\n",
        "    '''\n",
        "    Concatenate the audio files listed in wavfiles\n",
        "    Input: list of audio wav file names\n",
        "    Output: Magnitude spectrogram of concatenated wav\n",
        "    '''\n",
        "    x = []\n",
        "    for wf in wavfiles:\n",
        "        x1, Fs = librosa.load(wf, sr=44100, mono=True)\n",
        "        x.append(x1)\n",
        "    x = np.hstack(x)\n",
        "    hop = int(0.01 * Fs) # 10ms\n",
        "    win = int(0.02 * Fs) # 20ms\n",
        "    X = librosa.stft(x, n_fft=1024, hop_length=hop, win_length=win, window='hann', center=True, pad_mode='reflect')\n",
        "    return np.abs(X)\n",
        "\n",
        "def read_csv(filename):\n",
        "    id_label = {}\n",
        "    with open(filename,'r') as fid:\n",
        "        for line in fid: # '176787-5-0-27.wav,engine_idling\\n'\n",
        "            tokens = line.strip().split(',') # ['176787-5-0-27.wav', 'engine_idling']\n",
        "            id_label[tokens[0]] = tokens[1]\n",
        "    return id_label\n",
        "    \n",
        "def editDistance(gt, est):\n",
        "    '''both are lists of labels\n",
        "    E.g. gt is \"dog_bark-street_music-engine_idling\"\n",
        "    E.g. est is \"street_music-engine_idling\"\n",
        "    '''\n",
        "    gttokens = gt.split('-')\n",
        "    esttokens = est.split('-')\n",
        "    # Map token to char\n",
        "    tokenset = list(set(gttokens+esttokens)) # ['dog_bark', 'siren', 'street_music', 'engine_idling']\n",
        "    token_char = {}\n",
        "    for i in range(len(tokenset)):\n",
        "        token_char[tokenset[i]] = string.ascii_uppercase[i]  # {'dog_bark': 'A', 'siren': 'B', 'street_music': 'C', 'engine_idling': 'D'}\n",
        "    # convert gt and est to strings\n",
        "    gtstr = [token_char[t] for t in gttokens]\n",
        "    gtstr = ''.join(gtstr)  # 'BCA'\n",
        "    eststr = [token_char[t] for t in esttokens]\n",
        "    eststr = ''.join(eststr)  # \n",
        "    # Compare\n",
        "    editdist = distance(gtstr, eststr) # 1\n",
        "    score = 1 - editdist/len(gtstr)\n",
        "    return editdist, score\n",
        "\n",
        "def evals(gtcsv, estcsv, taskid):\n",
        "    gt_id_label = read_csv(gtcsv)\n",
        "    est_id_label = read_csv(estcsv)\n",
        "    score = 0\n",
        "    for id in est_id_label:\n",
        "        if taskid==1:\n",
        "            if est_id_label[id] == gt_id_label[id]:\n",
        "                score += 1\n",
        "        elif taskid==2:\n",
        "            _, ss = editDistance(gt_id_label[id], est_id_label[id])\n",
        "            score += ss\n",
        "        else:\n",
        "            pdb.set_trace()\n",
        "            assert False, [\"taskid not correct; it is\", taskid]\n",
        "    avgScore = score/len(est_id_label)\n",
        "    return avgScore\n",
        "\n",
        "#if __name__==\"__main__\":\n",
        "#    wavs = ['../shared_train/audio_train/180937-7-3-27.wav']\n",
        "#    wavs2feat(wavs)\n",
        "#     # wavfiles = ['../shared_train/audio_train/180937-7-3-27.wav','../shared_train/audio_train/180937-7-3-27.wav']\n",
        "#     # X = wavs2feat(wavfiles)\n",
        "#     # eval('test_task1/labels.csv', 'test_task1/est.csv', 1)\n",
        "#     editDistance(\"dog_bark-street_music-engine_idling\",\n",
        "#         \"siren-street_music-engine_idling\")"
      ],
      "execution_count": 4,
      "outputs": []
    },
    {
      "cell_type": "markdown",
      "metadata": {
        "id": "dDln3Oftblbc"
      },
      "source": [
        "**Feature extraction of multiple files**"
      ]
    },
    {
      "cell_type": "code",
      "metadata": {
        "id": "Qxo1Hs8Gmv05"
      },
      "source": [
        "def read_audio_files(files):\n",
        "    feat = [wav2feat(file) for file in files]\n",
        "    return feat"
      ],
      "execution_count": 5,
      "outputs": []
    },
    {
      "cell_type": "markdown",
      "metadata": {
        "id": "Qx0wk1M4b50V"
      },
      "source": [
        "**Add padding for making the dimension same for all the files**"
      ]
    },
    {
      "cell_type": "code",
      "metadata": {
        "id": "FLaDU7Oamv05"
      },
      "source": [
        "def add_padding(X):\n",
        "    data_samples = len(X)\n",
        "    for i in range(data_samples):\n",
        "        X[i] = np.pad(X[i],((0,0),(0,time_step-X[i].shape[1])))\n",
        "    X = np.array(X)\n",
        "    return X"
      ],
      "execution_count": 6,
      "outputs": []
    },
    {
      "cell_type": "markdown",
      "metadata": {
        "id": "WZ-Mz-uw0_nO"
      },
      "source": [
        "**Function for One_hot_encoding**"
      ]
    },
    {
      "cell_type": "code",
      "metadata": {
        "id": "IXjCwctZ07hH"
      },
      "source": [
        "def one_hot_encoding(t_indices, N):\r\n",
        "    '''\r\n",
        "    Inputs:\r\n",
        "        t_indices: [np.array] list of indices\r\n",
        "        N: [int] total no. of classes\r\n",
        "    Output:\r\n",
        "        t_1hot: [np.array] one hot encoded vectors\r\n",
        "    '''\r\n",
        "    assert N>max(t_indices), (N, max(t_indices))\r\n",
        "    ### WRITE YOUR CODE HERE - 2 MARKS\r\n",
        "    l = len(t_indices)\r\n",
        "    t_1hot = np.zeros((l,N),dtype = int)\r\n",
        "    for i in range(l):\r\n",
        "        t_1hot[i,t_indices[i]] = 1\r\n",
        "\r\n",
        "    return t_1hot"
      ],
      "execution_count": null,
      "outputs": []
    },
    {
      "cell_type": "markdown",
      "metadata": {
        "id": "_b8LGXxi1KOh"
      },
      "source": [
        "**Splitting training data into training and validation data**"
      ]
    },
    {
      "cell_type": "code",
      "metadata": {
        "id": "FjQI0z8u1Iyh"
      },
      "source": [
        "def splitData(X,t,testFraction=0.1):\r\n",
        "    \"\"\"\r\n",
        "    Split the data randomly into training and test sets\r\n",
        "    Use numpy functions only\r\n",
        "    Inputs:\r\n",
        "        X: np array of shape (Nsamples, dim)\r\n",
        "        t: np array of len Nsamples; can be one hot vectors or labels\r\n",
        "        testFraction: (float) Nsamples_test = testFraction * Nsamples\r\n",
        "    \"\"\"\r\n",
        "\r\n",
        "\r\n",
        "    ### WRITE YOUR CODE HERE - 3 MARKS\r\n",
        "    np.random.seed(0)\r\n",
        "    np.take(X,np.random.permutation(X.shape[0]),axis=0,out=X);\r\n",
        "    np.random.seed(0)\r\n",
        "    np.take(t,np.random.permutation(X.shape[0]),axis=0,out=t);\r\n",
        "    N_test = int(X.shape[0]*testFraction)\r\n",
        "    X_test, X_train = X[:N_test,:,:,:], X[N_test:,:,:,:]\r\n",
        "    t_test, t_train = t[:N_test], t[N_test:]   \r\n",
        "\r\n",
        "    return X_train, t_train, X_test, t_test"
      ],
      "execution_count": null,
      "outputs": []
    },
    {
      "cell_type": "markdown",
      "metadata": {
        "id": "iIzHV2B71Wur"
      },
      "source": [
        "**Training Function**"
      ]
    },
    {
      "cell_type": "code",
      "metadata": {
        "id": "gJtAJuVk1VNF"
      },
      "source": [
        "def train(X_train, t_train, X_test,t_test, Nepochs):\r\n",
        "    '''\r\n",
        "    Train a keras dense model for multi-event classification.\r\n",
        "    Inputs:\r\n",
        "        X_train: Data for training.\r\n",
        "        Nepochs: number of epochs\r\n",
        "    Return:\r\n",
        "        model: keras model\r\n",
        "    '''\r\n",
        "\r\n",
        "    n_input = X_train.shape[0]\r\n",
        "    \r\n",
        "    model = keras.Sequential()\r\n",
        "    model.add(Conv2D(filters = 16, kernel_size = 3, input_shape = (513,time_step,1), activation = 'relu'))\r\n",
        "    model.add(MaxPooling2D(pool_size = 2))\r\n",
        "    model.add(Dropout(0.15))\r\n",
        "    \r\n",
        "    model.add(Conv2D(filters = 32, kernel_size = 3, activation = 'relu'))\r\n",
        "    model.add(MaxPooling2D(pool_size = 2))\r\n",
        "    model.add(Dropout(0.15))\r\n",
        "    \r\n",
        "    model.add(Conv2D(filters = 64, kernel_size = 3, activation = 'relu'))\r\n",
        "    model.add(MaxPooling2D(pool_size = 2))\r\n",
        "    model.add(Dropout(0.1))\r\n",
        "    \r\n",
        "    model.add(Conv2D(filters = 128, kernel_size = 3, activation = 'relu'))\r\n",
        "    model.add(MaxPooling2D(pool_size = 2))\r\n",
        "    model.add(Dropout(0.1))\r\n",
        "    model.add(GlobalAveragePooling2D())\r\n",
        "    \r\n",
        "    model.add(Dense(100,activation = 'relu'))\r\n",
        "    model.add(Dropout(0.1))\r\n",
        "    \r\n",
        "    model.add(Dense(11, activation = 'softmax'))\r\n",
        "    \r\n",
        "    opt = keras.optimizers.Adam(learning_rate = 0.01)\r\n",
        "    checkpoint_filepath = \"/checkpoint2\"\r\n",
        "    checkpoint = keras.callbacks.ModelCheckpoint(filepath=checkpoint_filepath, verbose=1, monitor='val_accuracy',save_best_only=True,save_weights_only=True,mode='max')\r\n",
        "    model.compile(optimizer=opt, loss='sparse_categorical_crossentropy', metrics=['accuracy'])\r\n",
        "    model.fit(X_train, t_train, epochs = Nepochs,batch_size = 100, validation_data=(X_test,t_test),callbacks=[checkpoint])   \r\n",
        "      \r\n",
        "\r\n",
        "    return model"
      ],
      "execution_count": null,
      "outputs": []
    },
    {
      "cell_type": "markdown",
      "metadata": {
        "id": "Sjh-IaVw1r2B"
      },
      "source": [
        "**Hard Prediction**"
      ]
    },
    {
      "cell_type": "code",
      "metadata": {
        "id": "XzfgXlfi1q1h"
      },
      "source": [
        "def predict(model, X_test):\r\n",
        "    '''\r\n",
        "    Predict class for unknown inputs\r\n",
        "    Returns:\r\n",
        "        y_pred: np array of predicted vectors.\r\n",
        "    '''\r\n",
        "\r\n",
        "    ### WRITE YOUR CODE HERE - 5 MARKS\r\n",
        "    y_pred = model.predict(X_test)\r\n",
        "    n_output = y_pred.shape[1]\r\n",
        "    y = np.argmax(y_pred,axis = 1)\r\n",
        "    y_pred = one_hot_encoding(y,n_output)\r\n",
        "\r\n",
        "    return y_pred"
      ],
      "execution_count": null,
      "outputs": []
    },
    {
      "cell_type": "markdown",
      "metadata": {
        "id": "tRupN1Vl1veT"
      },
      "source": [
        "**Evaluation of CM**"
      ]
    },
    {
      "cell_type": "code",
      "metadata": {
        "id": "2KLh4MPB10Oc"
      },
      "source": [
        "def evaluate(y_pred, t_test):\r\n",
        "    '''\r\n",
        "    Use only numpy\r\n",
        "    Return CM: np.array of shape (No. of Events, No. of Events)\r\n",
        "    '''\r\n",
        "    n_test = y_pred.shape[0]\r\n",
        "\r\n",
        "    n_classes = y_pred.shape[1]\r\n",
        "    CM = np.zeros((n_classes,n_classes),dtype = int) \r\n",
        "    y, t = np.argmax(y_pred, axis = 1), t_test\r\n",
        "    for i in range(n_test):\r\n",
        "      CM[t[i],y[i]] = CM[t[i],y[i]] + 1\r\n",
        "\r\n",
        "    return CM"
      ],
      "execution_count": null,
      "outputs": []
    },
    {
      "cell_type": "markdown",
      "metadata": {
        "id": "nTIeR9E60kvp"
      },
      "source": [
        "# **Preprocessing of training data**"
      ]
    },
    {
      "cell_type": "code",
      "metadata": {
        "colab": {
          "base_uri": "https://localhost:8080/"
        },
        "id": "m-SCEAglk7uJ",
        "outputId": "a622b613-4246-421e-ea0f-aa7fba24a961"
      },
      "source": [
        "from google.colab import drive\n",
        "drive.mount(\"/content/drive\",force_remount = True)"
      ],
      "execution_count": 7,
      "outputs": [
        {
          "output_type": "stream",
          "text": [
            "Mounted at /content/drive\n"
          ],
          "name": "stdout"
        }
      ]
    },
    {
      "cell_type": "code",
      "metadata": {
        "id": "8Qg3ZdZomv05"
      },
      "source": [
        "files = glob.glob(\"/content/drive/My Drive/audio_train_1ch/*.wav\")\n",
        "audio_files = [os.path.basename(file) for file in files]"
      ],
      "execution_count": 8,
      "outputs": []
    },
    {
      "cell_type": "markdown",
      "metadata": {
        "id": "2fgDXXPu6iiA"
      },
      "source": [
        "*Saving extracted features of training data into sample.pkl*"
      ]
    },
    {
      "cell_type": "code",
      "metadata": {
        "id": "b2EA9kgA6GL-"
      },
      "source": [
        "#X_train = read_audio_files(files)\r\n",
        "#file_name = \"/content/drive/My Drive/sample.pkl\"\r\n",
        "  \r\n",
        "#open_file = open(file_name, \"wb\")\r\n",
        "#pickle.dump(X_train, open_file)\r\n",
        "#open_file.close()"
      ],
      "execution_count": null,
      "outputs": []
    },
    {
      "cell_type": "markdown",
      "metadata": {
        "id": "O7yVGqSu6v6P"
      },
      "source": [
        "*Loading features of training data from the saved file*"
      ]
    },
    {
      "cell_type": "code",
      "metadata": {
        "id": "fbLS8UKp8M12"
      },
      "source": [
        "file_name = \"/content/drive/My Drive/sample.pkl\"\r\n",
        "open_file = open(file_name, \"rb\")\r\n",
        "X_train = pickle.load(open_file)\r\n",
        "open_file.close()"
      ],
      "execution_count": 9,
      "outputs": []
    },
    {
      "cell_type": "markdown",
      "metadata": {
        "id": "zMyvKuBG7OpZ"
      },
      "source": [
        "*Partitioning train data according to our time step*"
      ]
    },
    {
      "cell_type": "code",
      "metadata": {
        "id": "gOA394NQyjSq"
      },
      "source": [
        "Number_of_partitions = [math.ceil(X_train[i].shape[1]/time_step) for i in range(len(X_train))]\r\n",
        "train_data = []\r\n",
        "for i in range(len(X_train)):\r\n",
        "  for j in range(Number_of_partitions[i]):\r\n",
        "    if (j+1)*time_step > X_train[i].shape[1]:\r\n",
        "      train_data.append(X_train[i][:,j*time_step:X_train[i].shape[1]])\r\n",
        "    else :\r\n",
        "      train_data.append(X_train[i][:,j*time_step:(j+1)*time_step])\r\n",
        "      \r\n",
        "train_data = add_padding(train_data)"
      ],
      "execution_count": 10,
      "outputs": []
    },
    {
      "cell_type": "markdown",
      "metadata": {
        "id": "b9SpZcVL7d6K"
      },
      "source": [
        "*Labelling each part of a audio file with its label*"
      ]
    },
    {
      "cell_type": "code",
      "metadata": {
        "id": "GqefCGlZs0qr"
      },
      "source": [
        "Id_labels = read_csv(\"/content/drive/My Drive/labels_train.csv\")\r\n",
        "target_data = []\r\n",
        "Label_to_index = {'dog_bark':0, 'air_conditioner':1, 'engine_idling':2, 'siren':3, 'class':4, 'gun_shot':5, 'jackhammer':6, 'drilling':7, 'children_playing':8, 'car_horn':9, 'street_music':10}\r\n",
        "index_to_Label = {0:'dog_bark', 1:'air_conditioner', 2:'engine_idling', 3:'siren', 4:'class', 5:'gun_shot', 6:'jackhammer', 7:'drilling', 8:'children_playing', 9:'car_horn', 10:'street_music'}\r\n",
        "\r\n",
        "for i in range(len(X_train)):\r\n",
        "  for j in range(Number_of_partitions[i]):\r\n",
        "    target_data.append(Label_to_index[Id_labels[audio_files[i]]])\r\n",
        "\r\n",
        "target_data = np.array(target_data)  "
      ],
      "execution_count": 11,
      "outputs": []
    },
    {
      "cell_type": "markdown",
      "metadata": {
        "id": "v17LLpeZ2Hjq"
      },
      "source": [
        "# **Preprocessing of Test Data**"
      ]
    },
    {
      "cell_type": "markdown",
      "metadata": {
        "id": "Y-czpRsv8hRC"
      },
      "source": [
        "*Appending all .npy of test data into all_arrays2*"
      ]
    },
    {
      "cell_type": "code",
      "metadata": {
        "id": "6dFVCENi2Etr"
      },
      "source": [
        "test_files2 = glob.glob(\"/content/drive/My Drive/test_task2/feats/*.npy\")\r\n",
        "test_audio_files2 = [os.path.basename(file)[0:-4] for file in test_files2]\r\n",
        "\r\n",
        "fpath2 =\"/content/drive/My Drive/test_data2.npy\"\r\n",
        "npyfilespath2 =\"/content/drive/My Drive/test_task2/feats\"   \r\n",
        "os.chdir(npyfilespath2)\r\n",
        "npfiles2 = glob.glob(\"/content/drive/My Drive/test_task2/feats/*.npy\")\r\n",
        "all_arrays2 = []\r\n",
        "for i, npfile in enumerate(npfiles2):\r\n",
        "    all_arrays2.append(np.load(os.path.join(npyfilespath2, npfile)))"
      ],
      "execution_count": 38,
      "outputs": []
    },
    {
      "cell_type": "markdown",
      "metadata": {
        "id": "YoeANweU8oka"
      },
      "source": [
        "*Partitioning test data according to our time step*"
      ]
    },
    {
      "cell_type": "code",
      "metadata": {
        "id": "_uCucKup8aaV"
      },
      "source": [
        "Number_of_partitions = [math.ceil(all_arrays2[i].shape[1]/time_step) for i in range(len(all_arrays2))]\r\n",
        "\r\n",
        "test_data2 = []\r\n",
        "for i in range(len(all_arrays2)):\r\n",
        "  for j in range(Number_of_partitions[i]):\r\n",
        "    if (j+1)*time_step > all_arrays2[i].shape[1]:\r\n",
        "      test_data2.append(all_arrays2[i][:,j*time_step:all_arrays2[i].shape[1]])\r\n",
        "    else :\r\n",
        "      test_data2.append(all_arrays2[i][:,j*time_step:(j+1)*time_step])\r\n",
        "\r\n",
        "test_data2 = add_padding(test_data2)\r\n",
        "test_data2 = test_data2.reshape(test_data2.shape[0],test_data2.shape[1],test_data2.shape[2],1)"
      ],
      "execution_count": null,
      "outputs": []
    },
    {
      "cell_type": "markdown",
      "metadata": {
        "id": "i1t7bRWV4YxO"
      },
      "source": [
        "# **Training**"
      ]
    },
    {
      "cell_type": "code",
      "metadata": {
        "id": "khaKNnbZ81UD"
      },
      "source": [
        "train_data = train_data.reshape(train_data.shape[0],train_data.shape[1],train_data.shape[2],1)\r\n",
        "X_train, t_train, X_val, t_val = splitData(train_data,target_data,testFraction=0.1)"
      ],
      "execution_count": null,
      "outputs": []
    },
    {
      "cell_type": "code",
      "metadata": {
        "id": "yWNR3UHjwo7q",
        "colab": {
          "base_uri": "https://localhost:8080/"
        },
        "outputId": "1141569a-2838-4241-fb71-0590770073a6"
      },
      "source": [
        "if __name__==\"__main__\":\r\n",
        "  model = train(X_train, t_train, X_test,t_test, Nepochs=100)"
      ],
      "execution_count": 26,
      "outputs": [
        {
          "output_type": "stream",
          "text": [
            "Epoch 1/100\n",
            "30/30 [==============================] - ETA: 0s - loss: 2.3975 - accuracy: 0.1400\n",
            "Epoch 00001: val_accuracy improved from -inf to 0.21148, saving model to /checkpoint2\n",
            "30/30 [==============================] - 10s 348ms/step - loss: 2.3975 - accuracy: 0.1400 - val_loss: 2.1662 - val_accuracy: 0.2115\n",
            "Epoch 2/100\n",
            "30/30 [==============================] - ETA: 0s - loss: 2.0407 - accuracy: 0.2583\n",
            "Epoch 00002: val_accuracy improved from 0.21148 to 0.33535, saving model to /checkpoint2\n",
            "30/30 [==============================] - 10s 337ms/step - loss: 2.0407 - accuracy: 0.2583 - val_loss: 1.8725 - val_accuracy: 0.3353\n",
            "Epoch 3/100\n",
            "30/30 [==============================] - ETA: 0s - loss: 1.7559 - accuracy: 0.3682\n",
            "Epoch 00003: val_accuracy improved from 0.33535 to 0.48338, saving model to /checkpoint2\n",
            "30/30 [==============================] - 10s 337ms/step - loss: 1.7559 - accuracy: 0.3682 - val_loss: 1.6046 - val_accuracy: 0.4834\n",
            "Epoch 4/100\n",
            "30/30 [==============================] - ETA: 0s - loss: 1.5151 - accuracy: 0.4616\n",
            "Epoch 00004: val_accuracy improved from 0.48338 to 0.55589, saving model to /checkpoint2\n",
            "30/30 [==============================] - 10s 337ms/step - loss: 1.5151 - accuracy: 0.4616 - val_loss: 1.4518 - val_accuracy: 0.5559\n",
            "Epoch 5/100\n",
            "30/30 [==============================] - ETA: 0s - loss: 1.3106 - accuracy: 0.5357\n",
            "Epoch 00005: val_accuracy did not improve from 0.55589\n",
            "30/30 [==============================] - 10s 335ms/step - loss: 1.3106 - accuracy: 0.5357 - val_loss: 1.2846 - val_accuracy: 0.5438\n",
            "Epoch 6/100\n",
            "30/30 [==============================] - ETA: 0s - loss: 1.2388 - accuracy: 0.5581\n",
            "Epoch 00006: val_accuracy did not improve from 0.55589\n",
            "30/30 [==============================] - 10s 338ms/step - loss: 1.2388 - accuracy: 0.5581 - val_loss: 1.2631 - val_accuracy: 0.5468\n",
            "Epoch 7/100\n",
            "30/30 [==============================] - ETA: 0s - loss: 1.1217 - accuracy: 0.5893\n",
            "Epoch 00007: val_accuracy improved from 0.55589 to 0.66465, saving model to /checkpoint2\n",
            "30/30 [==============================] - 10s 338ms/step - loss: 1.1217 - accuracy: 0.5893 - val_loss: 1.0089 - val_accuracy: 0.6647\n",
            "Epoch 8/100\n",
            "30/30 [==============================] - ETA: 0s - loss: 0.9678 - accuracy: 0.6687\n",
            "Epoch 00008: val_accuracy improved from 0.66465 to 0.70091, saving model to /checkpoint2\n",
            "30/30 [==============================] - 10s 338ms/step - loss: 0.9678 - accuracy: 0.6687 - val_loss: 0.9095 - val_accuracy: 0.7009\n",
            "Epoch 9/100\n",
            "30/30 [==============================] - ETA: 0s - loss: 0.9750 - accuracy: 0.6710\n",
            "Epoch 00009: val_accuracy improved from 0.70091 to 0.77644, saving model to /checkpoint2\n",
            "30/30 [==============================] - 10s 340ms/step - loss: 0.9750 - accuracy: 0.6710 - val_loss: 0.8613 - val_accuracy: 0.7764\n",
            "Epoch 10/100\n",
            "30/30 [==============================] - ETA: 0s - loss: 0.8446 - accuracy: 0.7189\n",
            "Epoch 00010: val_accuracy did not improve from 0.77644\n",
            "30/30 [==============================] - 10s 338ms/step - loss: 0.8446 - accuracy: 0.7189 - val_loss: 0.8201 - val_accuracy: 0.7553\n",
            "Epoch 11/100\n",
            "30/30 [==============================] - ETA: 0s - loss: 0.7429 - accuracy: 0.7588\n",
            "Epoch 00011: val_accuracy improved from 0.77644 to 0.78550, saving model to /checkpoint2\n",
            "30/30 [==============================] - 10s 340ms/step - loss: 0.7429 - accuracy: 0.7588 - val_loss: 0.7631 - val_accuracy: 0.7855\n",
            "Epoch 12/100\n",
            "30/30 [==============================] - ETA: 0s - loss: 0.7132 - accuracy: 0.7628\n",
            "Epoch 00012: val_accuracy did not improve from 0.78550\n",
            "30/30 [==============================] - 10s 338ms/step - loss: 0.7132 - accuracy: 0.7628 - val_loss: 0.7172 - val_accuracy: 0.7583\n",
            "Epoch 13/100\n",
            "30/30 [==============================] - ETA: 0s - loss: 0.6564 - accuracy: 0.7926\n",
            "Epoch 00013: val_accuracy improved from 0.78550 to 0.79758, saving model to /checkpoint2\n",
            "30/30 [==============================] - 10s 340ms/step - loss: 0.6564 - accuracy: 0.7926 - val_loss: 0.5919 - val_accuracy: 0.7976\n",
            "Epoch 14/100\n",
            "30/30 [==============================] - ETA: 0s - loss: 0.6718 - accuracy: 0.7759\n",
            "Epoch 00014: val_accuracy did not improve from 0.79758\n",
            "30/30 [==============================] - 10s 340ms/step - loss: 0.6718 - accuracy: 0.7759 - val_loss: 0.7199 - val_accuracy: 0.7976\n",
            "Epoch 15/100\n",
            "30/30 [==============================] - ETA: 0s - loss: 0.6579 - accuracy: 0.7856\n",
            "Epoch 00015: val_accuracy improved from 0.79758 to 0.81269, saving model to /checkpoint2\n",
            "30/30 [==============================] - 10s 340ms/step - loss: 0.6579 - accuracy: 0.7856 - val_loss: 0.6105 - val_accuracy: 0.8127\n",
            "Epoch 16/100\n",
            "30/30 [==============================] - ETA: 0s - loss: 0.5540 - accuracy: 0.8201\n",
            "Epoch 00016: val_accuracy did not improve from 0.81269\n",
            "30/30 [==============================] - 10s 338ms/step - loss: 0.5540 - accuracy: 0.8201 - val_loss: 0.6991 - val_accuracy: 0.7946\n",
            "Epoch 17/100\n",
            "30/30 [==============================] - ETA: 0s - loss: 0.5457 - accuracy: 0.8201\n",
            "Epoch 00017: val_accuracy did not improve from 0.81269\n",
            "30/30 [==============================] - 10s 338ms/step - loss: 0.5457 - accuracy: 0.8201 - val_loss: 0.5760 - val_accuracy: 0.8127\n",
            "Epoch 18/100\n",
            "30/30 [==============================] - ETA: 0s - loss: 0.4706 - accuracy: 0.8489\n",
            "Epoch 00018: val_accuracy improved from 0.81269 to 0.83988, saving model to /checkpoint2\n",
            "30/30 [==============================] - 10s 340ms/step - loss: 0.4706 - accuracy: 0.8489 - val_loss: 0.5499 - val_accuracy: 0.8399\n",
            "Epoch 19/100\n",
            "30/30 [==============================] - ETA: 0s - loss: 0.5699 - accuracy: 0.8117\n",
            "Epoch 00019: val_accuracy did not improve from 0.83988\n",
            "30/30 [==============================] - 10s 340ms/step - loss: 0.5699 - accuracy: 0.8117 - val_loss: 0.7147 - val_accuracy: 0.7855\n",
            "Epoch 20/100\n",
            "30/30 [==============================] - ETA: 0s - loss: 0.5538 - accuracy: 0.8144\n",
            "Epoch 00020: val_accuracy improved from 0.83988 to 0.84592, saving model to /checkpoint2\n",
            "30/30 [==============================] - 10s 340ms/step - loss: 0.5538 - accuracy: 0.8144 - val_loss: 0.4939 - val_accuracy: 0.8459\n",
            "Epoch 21/100\n",
            "30/30 [==============================] - ETA: 0s - loss: 0.4948 - accuracy: 0.8389\n",
            "Epoch 00021: val_accuracy did not improve from 0.84592\n",
            "30/30 [==============================] - 10s 339ms/step - loss: 0.4948 - accuracy: 0.8389 - val_loss: 0.5850 - val_accuracy: 0.8278\n",
            "Epoch 22/100\n",
            "30/30 [==============================] - ETA: 0s - loss: 0.4740 - accuracy: 0.8472\n",
            "Epoch 00022: val_accuracy improved from 0.84592 to 0.86707, saving model to /checkpoint2\n",
            "30/30 [==============================] - 10s 338ms/step - loss: 0.4740 - accuracy: 0.8472 - val_loss: 0.4867 - val_accuracy: 0.8671\n",
            "Epoch 23/100\n",
            "30/30 [==============================] - ETA: 0s - loss: 0.3949 - accuracy: 0.8760\n",
            "Epoch 00023: val_accuracy improved from 0.86707 to 0.88822, saving model to /checkpoint2\n",
            "30/30 [==============================] - 10s 339ms/step - loss: 0.3949 - accuracy: 0.8760 - val_loss: 0.4255 - val_accuracy: 0.8882\n",
            "Epoch 24/100\n",
            "30/30 [==============================] - ETA: 0s - loss: 0.3906 - accuracy: 0.8693\n",
            "Epoch 00024: val_accuracy did not improve from 0.88822\n",
            "30/30 [==============================] - 10s 340ms/step - loss: 0.3906 - accuracy: 0.8693 - val_loss: 0.4890 - val_accuracy: 0.8882\n",
            "Epoch 25/100\n",
            "30/30 [==============================] - ETA: 0s - loss: 0.3443 - accuracy: 0.8824\n",
            "Epoch 00025: val_accuracy did not improve from 0.88822\n",
            "30/30 [==============================] - 10s 340ms/step - loss: 0.3443 - accuracy: 0.8824 - val_loss: 0.4446 - val_accuracy: 0.8822\n",
            "Epoch 26/100\n",
            "30/30 [==============================] - ETA: 0s - loss: 0.3955 - accuracy: 0.8630\n",
            "Epoch 00026: val_accuracy did not improve from 0.88822\n",
            "30/30 [==============================] - 10s 339ms/step - loss: 0.3955 - accuracy: 0.8630 - val_loss: 0.4682 - val_accuracy: 0.8580\n",
            "Epoch 27/100\n",
            "30/30 [==============================] - ETA: 0s - loss: 0.3592 - accuracy: 0.8791\n",
            "Epoch 00027: val_accuracy did not improve from 0.88822\n",
            "30/30 [==============================] - 10s 339ms/step - loss: 0.3592 - accuracy: 0.8791 - val_loss: 0.4450 - val_accuracy: 0.8761\n",
            "Epoch 28/100\n",
            "30/30 [==============================] - ETA: 0s - loss: 0.3383 - accuracy: 0.8868\n",
            "Epoch 00028: val_accuracy did not improve from 0.88822\n",
            "30/30 [==============================] - 10s 339ms/step - loss: 0.3383 - accuracy: 0.8868 - val_loss: 0.4161 - val_accuracy: 0.8792\n",
            "Epoch 29/100\n",
            "30/30 [==============================] - ETA: 0s - loss: 0.3346 - accuracy: 0.8844\n",
            "Epoch 00029: val_accuracy did not improve from 0.88822\n",
            "30/30 [==============================] - 10s 341ms/step - loss: 0.3346 - accuracy: 0.8844 - val_loss: 0.4021 - val_accuracy: 0.8792\n",
            "Epoch 30/100\n",
            "30/30 [==============================] - ETA: 0s - loss: 0.3084 - accuracy: 0.8992\n",
            "Epoch 00030: val_accuracy did not improve from 0.88822\n",
            "30/30 [==============================] - 10s 338ms/step - loss: 0.3084 - accuracy: 0.8992 - val_loss: 0.5056 - val_accuracy: 0.8792\n",
            "Epoch 31/100\n",
            "30/30 [==============================] - ETA: 0s - loss: 0.4001 - accuracy: 0.8764\n",
            "Epoch 00031: val_accuracy did not improve from 0.88822\n",
            "30/30 [==============================] - 10s 340ms/step - loss: 0.4001 - accuracy: 0.8764 - val_loss: 0.5372 - val_accuracy: 0.8459\n",
            "Epoch 32/100\n",
            "30/30 [==============================] - ETA: 0s - loss: 0.4108 - accuracy: 0.8670\n",
            "Epoch 00032: val_accuracy did not improve from 0.88822\n",
            "30/30 [==============================] - 10s 340ms/step - loss: 0.4108 - accuracy: 0.8670 - val_loss: 0.4644 - val_accuracy: 0.8761\n",
            "Epoch 33/100\n",
            "30/30 [==============================] - ETA: 0s - loss: 0.3276 - accuracy: 0.8915\n",
            "Epoch 00033: val_accuracy improved from 0.88822 to 0.89426, saving model to /checkpoint2\n",
            "30/30 [==============================] - 10s 341ms/step - loss: 0.3276 - accuracy: 0.8915 - val_loss: 0.4648 - val_accuracy: 0.8943\n",
            "Epoch 34/100\n",
            "30/30 [==============================] - ETA: 0s - loss: 0.3629 - accuracy: 0.8781\n",
            "Epoch 00034: val_accuracy did not improve from 0.89426\n",
            "30/30 [==============================] - 10s 339ms/step - loss: 0.3629 - accuracy: 0.8781 - val_loss: 0.4801 - val_accuracy: 0.8640\n",
            "Epoch 35/100\n",
            "30/30 [==============================] - ETA: 0s - loss: 0.3014 - accuracy: 0.8928\n",
            "Epoch 00035: val_accuracy improved from 0.89426 to 0.90937, saving model to /checkpoint2\n",
            "30/30 [==============================] - 10s 340ms/step - loss: 0.3014 - accuracy: 0.8928 - val_loss: 0.4062 - val_accuracy: 0.9094\n",
            "Epoch 36/100\n",
            "30/30 [==============================] - ETA: 0s - loss: 0.2882 - accuracy: 0.9018\n",
            "Epoch 00036: val_accuracy did not improve from 0.90937\n",
            "30/30 [==============================] - 10s 338ms/step - loss: 0.2882 - accuracy: 0.9018 - val_loss: 0.4135 - val_accuracy: 0.9003\n",
            "Epoch 37/100\n",
            "30/30 [==============================] - ETA: 0s - loss: 0.2918 - accuracy: 0.9059\n",
            "Epoch 00037: val_accuracy did not improve from 0.90937\n",
            "30/30 [==============================] - 10s 339ms/step - loss: 0.2918 - accuracy: 0.9059 - val_loss: 0.4020 - val_accuracy: 0.8943\n",
            "Epoch 38/100\n",
            "30/30 [==============================] - ETA: 0s - loss: 0.2732 - accuracy: 0.9106\n",
            "Epoch 00038: val_accuracy did not improve from 0.90937\n",
            "30/30 [==============================] - 10s 339ms/step - loss: 0.2732 - accuracy: 0.9106 - val_loss: 0.4452 - val_accuracy: 0.8943\n",
            "Epoch 39/100\n",
            "30/30 [==============================] - ETA: 0s - loss: 0.2841 - accuracy: 0.9082\n",
            "Epoch 00039: val_accuracy did not improve from 0.90937\n",
            "30/30 [==============================] - 10s 340ms/step - loss: 0.2841 - accuracy: 0.9082 - val_loss: 0.4511 - val_accuracy: 0.8882\n",
            "Epoch 40/100\n",
            "30/30 [==============================] - ETA: 0s - loss: 0.2345 - accuracy: 0.9199\n",
            "Epoch 00040: val_accuracy improved from 0.90937 to 0.91239, saving model to /checkpoint2\n",
            "30/30 [==============================] - 10s 339ms/step - loss: 0.2345 - accuracy: 0.9199 - val_loss: 0.6327 - val_accuracy: 0.9124\n",
            "Epoch 41/100\n",
            "30/30 [==============================] - ETA: 0s - loss: 0.3189 - accuracy: 0.8928\n",
            "Epoch 00041: val_accuracy did not improve from 0.91239\n",
            "30/30 [==============================] - 10s 339ms/step - loss: 0.3189 - accuracy: 0.8928 - val_loss: 0.4499 - val_accuracy: 0.8640\n",
            "Epoch 42/100\n",
            "30/30 [==============================] - ETA: 0s - loss: 0.2924 - accuracy: 0.9085\n",
            "Epoch 00042: val_accuracy did not improve from 0.91239\n",
            "30/30 [==============================] - 10s 339ms/step - loss: 0.2924 - accuracy: 0.9085 - val_loss: 0.3626 - val_accuracy: 0.9033\n",
            "Epoch 43/100\n",
            "30/30 [==============================] - ETA: 0s - loss: 0.2207 - accuracy: 0.9263\n",
            "Epoch 00043: val_accuracy did not improve from 0.91239\n",
            "30/30 [==============================] - 10s 340ms/step - loss: 0.2207 - accuracy: 0.9263 - val_loss: 0.4223 - val_accuracy: 0.9063\n",
            "Epoch 44/100\n",
            "30/30 [==============================] - ETA: 0s - loss: 0.2214 - accuracy: 0.9280\n",
            "Epoch 00044: val_accuracy did not improve from 0.91239\n",
            "30/30 [==============================] - 10s 340ms/step - loss: 0.2214 - accuracy: 0.9280 - val_loss: 0.4796 - val_accuracy: 0.9124\n",
            "Epoch 45/100\n",
            "30/30 [==============================] - ETA: 0s - loss: 0.2499 - accuracy: 0.9196\n",
            "Epoch 00045: val_accuracy did not improve from 0.91239\n",
            "30/30 [==============================] - 10s 341ms/step - loss: 0.2499 - accuracy: 0.9196 - val_loss: 0.4577 - val_accuracy: 0.9124\n",
            "Epoch 46/100\n",
            "30/30 [==============================] - ETA: 0s - loss: 0.2326 - accuracy: 0.9266\n",
            "Epoch 00046: val_accuracy did not improve from 0.91239\n",
            "30/30 [==============================] - 10s 341ms/step - loss: 0.2326 - accuracy: 0.9266 - val_loss: 0.4453 - val_accuracy: 0.9124\n",
            "Epoch 47/100\n",
            "30/30 [==============================] - ETA: 0s - loss: 0.2382 - accuracy: 0.9193\n",
            "Epoch 00047: val_accuracy did not improve from 0.91239\n",
            "30/30 [==============================] - 10s 339ms/step - loss: 0.2382 - accuracy: 0.9193 - val_loss: 0.4804 - val_accuracy: 0.9063\n",
            "Epoch 48/100\n",
            "30/30 [==============================] - ETA: 0s - loss: 0.3174 - accuracy: 0.9126\n",
            "Epoch 00048: val_accuracy did not improve from 0.91239\n",
            "30/30 [==============================] - 10s 340ms/step - loss: 0.3174 - accuracy: 0.9126 - val_loss: 0.4197 - val_accuracy: 0.9124\n",
            "Epoch 49/100\n",
            "30/30 [==============================] - ETA: 0s - loss: 0.2534 - accuracy: 0.9162\n",
            "Epoch 00049: val_accuracy improved from 0.91239 to 0.92145, saving model to /checkpoint2\n",
            "30/30 [==============================] - 10s 340ms/step - loss: 0.2534 - accuracy: 0.9162 - val_loss: 0.3891 - val_accuracy: 0.9215\n",
            "Epoch 50/100\n",
            "30/30 [==============================] - ETA: 0s - loss: 0.1984 - accuracy: 0.9353\n",
            "Epoch 00050: val_accuracy did not improve from 0.92145\n",
            "30/30 [==============================] - 10s 338ms/step - loss: 0.1984 - accuracy: 0.9353 - val_loss: 0.4906 - val_accuracy: 0.9003\n",
            "Epoch 51/100\n",
            "30/30 [==============================] - ETA: 0s - loss: 0.1998 - accuracy: 0.9330\n",
            "Epoch 00051: val_accuracy did not improve from 0.92145\n",
            "30/30 [==============================] - 10s 339ms/step - loss: 0.1998 - accuracy: 0.9330 - val_loss: 0.4227 - val_accuracy: 0.9124\n",
            "Epoch 52/100\n",
            "30/30 [==============================] - ETA: 0s - loss: 0.2340 - accuracy: 0.9213\n",
            "Epoch 00052: val_accuracy did not improve from 0.92145\n",
            "30/30 [==============================] - 10s 340ms/step - loss: 0.2340 - accuracy: 0.9213 - val_loss: 0.6548 - val_accuracy: 0.8912\n",
            "Epoch 53/100\n",
            "30/30 [==============================] - ETA: 0s - loss: 0.2189 - accuracy: 0.9266\n",
            "Epoch 00053: val_accuracy improved from 0.92145 to 0.92447, saving model to /checkpoint2\n",
            "30/30 [==============================] - 10s 341ms/step - loss: 0.2189 - accuracy: 0.9266 - val_loss: 0.3714 - val_accuracy: 0.9245\n",
            "Epoch 54/100\n",
            "30/30 [==============================] - ETA: 0s - loss: 0.1930 - accuracy: 0.9397\n",
            "Epoch 00054: val_accuracy did not improve from 0.92447\n",
            "30/30 [==============================] - 10s 339ms/step - loss: 0.1930 - accuracy: 0.9397 - val_loss: 0.3540 - val_accuracy: 0.9033\n",
            "Epoch 55/100\n",
            "30/30 [==============================] - ETA: 0s - loss: 0.2720 - accuracy: 0.9109\n",
            "Epoch 00055: val_accuracy did not improve from 0.92447\n",
            "30/30 [==============================] - 10s 339ms/step - loss: 0.2720 - accuracy: 0.9109 - val_loss: 0.4591 - val_accuracy: 0.8882\n",
            "Epoch 56/100\n",
            "30/30 [==============================] - ETA: 0s - loss: 0.2912 - accuracy: 0.9025\n",
            "Epoch 00056: val_accuracy did not improve from 0.92447\n",
            "30/30 [==============================] - 10s 340ms/step - loss: 0.2912 - accuracy: 0.9025 - val_loss: 0.4553 - val_accuracy: 0.9184\n",
            "Epoch 57/100\n",
            "30/30 [==============================] - ETA: 0s - loss: 0.1827 - accuracy: 0.9350\n",
            "Epoch 00057: val_accuracy did not improve from 0.92447\n",
            "30/30 [==============================] - 10s 340ms/step - loss: 0.1827 - accuracy: 0.9350 - val_loss: 0.5431 - val_accuracy: 0.9124\n",
            "Epoch 58/100\n",
            "30/30 [==============================] - ETA: 0s - loss: 0.2068 - accuracy: 0.9276\n",
            "Epoch 00058: val_accuracy did not improve from 0.92447\n",
            "30/30 [==============================] - 10s 340ms/step - loss: 0.2068 - accuracy: 0.9276 - val_loss: 0.8645 - val_accuracy: 0.8852\n",
            "Epoch 59/100\n",
            "30/30 [==============================] - ETA: 0s - loss: 0.2745 - accuracy: 0.9219\n",
            "Epoch 00059: val_accuracy did not improve from 0.92447\n",
            "30/30 [==============================] - 10s 340ms/step - loss: 0.2745 - accuracy: 0.9219 - val_loss: 0.6711 - val_accuracy: 0.9033\n",
            "Epoch 60/100\n",
            "30/30 [==============================] - ETA: 0s - loss: 0.2001 - accuracy: 0.9384\n",
            "Epoch 00060: val_accuracy did not improve from 0.92447\n",
            "30/30 [==============================] - 10s 339ms/step - loss: 0.2001 - accuracy: 0.9384 - val_loss: 0.5772 - val_accuracy: 0.9154\n",
            "Epoch 61/100\n",
            "30/30 [==============================] - ETA: 0s - loss: 0.1974 - accuracy: 0.9367\n",
            "Epoch 00061: val_accuracy did not improve from 0.92447\n",
            "30/30 [==============================] - 10s 339ms/step - loss: 0.1974 - accuracy: 0.9367 - val_loss: 0.5069 - val_accuracy: 0.9094\n",
            "Epoch 62/100\n",
            "30/30 [==============================] - ETA: 0s - loss: 0.1741 - accuracy: 0.9397\n",
            "Epoch 00062: val_accuracy did not improve from 0.92447\n",
            "30/30 [==============================] - 10s 339ms/step - loss: 0.1741 - accuracy: 0.9397 - val_loss: 0.6077 - val_accuracy: 0.9154\n",
            "Epoch 63/100\n",
            "30/30 [==============================] - ETA: 0s - loss: 0.2018 - accuracy: 0.9337\n",
            "Epoch 00063: val_accuracy improved from 0.92447 to 0.92749, saving model to /checkpoint2\n",
            "30/30 [==============================] - 10s 340ms/step - loss: 0.2018 - accuracy: 0.9337 - val_loss: 0.4780 - val_accuracy: 0.9275\n",
            "Epoch 64/100\n",
            "30/30 [==============================] - ETA: 0s - loss: 0.1877 - accuracy: 0.9394\n",
            "Epoch 00064: val_accuracy did not improve from 0.92749\n",
            "30/30 [==============================] - 10s 339ms/step - loss: 0.1877 - accuracy: 0.9394 - val_loss: 0.5490 - val_accuracy: 0.9094\n",
            "Epoch 65/100\n",
            "30/30 [==============================] - ETA: 0s - loss: 0.1704 - accuracy: 0.9387\n",
            "Epoch 00065: val_accuracy did not improve from 0.92749\n",
            "30/30 [==============================] - 10s 339ms/step - loss: 0.1704 - accuracy: 0.9387 - val_loss: 0.6085 - val_accuracy: 0.9215\n",
            "Epoch 66/100\n",
            "30/30 [==============================] - ETA: 0s - loss: 0.1956 - accuracy: 0.9313\n",
            "Epoch 00066: val_accuracy did not improve from 0.92749\n",
            "30/30 [==============================] - 10s 339ms/step - loss: 0.1956 - accuracy: 0.9313 - val_loss: 0.5852 - val_accuracy: 0.9184\n",
            "Epoch 67/100\n",
            "30/30 [==============================] - ETA: 0s - loss: 0.1911 - accuracy: 0.9374\n",
            "Epoch 00067: val_accuracy did not improve from 0.92749\n",
            "30/30 [==============================] - 10s 339ms/step - loss: 0.1911 - accuracy: 0.9374 - val_loss: 0.7586 - val_accuracy: 0.9003\n",
            "Epoch 68/100\n",
            "30/30 [==============================] - ETA: 0s - loss: 0.2343 - accuracy: 0.9296\n",
            "Epoch 00068: val_accuracy did not improve from 0.92749\n",
            "30/30 [==============================] - 10s 341ms/step - loss: 0.2343 - accuracy: 0.9296 - val_loss: 0.8223 - val_accuracy: 0.9033\n",
            "Epoch 69/100\n",
            "30/30 [==============================] - ETA: 0s - loss: 0.2944 - accuracy: 0.9112\n",
            "Epoch 00069: val_accuracy did not improve from 0.92749\n",
            "30/30 [==============================] - 10s 341ms/step - loss: 0.2944 - accuracy: 0.9112 - val_loss: 0.6984 - val_accuracy: 0.8973\n",
            "Epoch 70/100\n",
            "30/30 [==============================] - ETA: 0s - loss: 0.1968 - accuracy: 0.9313\n",
            "Epoch 00070: val_accuracy did not improve from 0.92749\n",
            "30/30 [==============================] - 10s 340ms/step - loss: 0.1968 - accuracy: 0.9313 - val_loss: 0.4795 - val_accuracy: 0.9215\n",
            "Epoch 71/100\n",
            "30/30 [==============================] - ETA: 0s - loss: 0.1937 - accuracy: 0.9390\n",
            "Epoch 00071: val_accuracy did not improve from 0.92749\n",
            "30/30 [==============================] - 10s 339ms/step - loss: 0.1937 - accuracy: 0.9390 - val_loss: 0.6364 - val_accuracy: 0.9094\n",
            "Epoch 72/100\n",
            "30/30 [==============================] - ETA: 0s - loss: 0.2004 - accuracy: 0.9360\n",
            "Epoch 00072: val_accuracy did not improve from 0.92749\n",
            "30/30 [==============================] - 10s 341ms/step - loss: 0.2004 - accuracy: 0.9360 - val_loss: 0.8326 - val_accuracy: 0.8882\n",
            "Epoch 73/100\n",
            "30/30 [==============================] - ETA: 0s - loss: 0.2026 - accuracy: 0.9280\n",
            "Epoch 00073: val_accuracy did not improve from 0.92749\n",
            "30/30 [==============================] - 10s 341ms/step - loss: 0.2026 - accuracy: 0.9280 - val_loss: 0.5556 - val_accuracy: 0.9245\n",
            "Epoch 74/100\n",
            "30/30 [==============================] - ETA: 0s - loss: 0.1217 - accuracy: 0.9561\n",
            "Epoch 00074: val_accuracy did not improve from 0.92749\n",
            "30/30 [==============================] - 10s 339ms/step - loss: 0.1217 - accuracy: 0.9561 - val_loss: 0.4797 - val_accuracy: 0.9245\n",
            "Epoch 75/100\n",
            "30/30 [==============================] - ETA: 0s - loss: 0.1132 - accuracy: 0.9638\n",
            "Epoch 00075: val_accuracy did not improve from 0.92749\n",
            "30/30 [==============================] - 10s 339ms/step - loss: 0.1132 - accuracy: 0.9638 - val_loss: 0.7570 - val_accuracy: 0.9094\n",
            "Epoch 76/100\n",
            "30/30 [==============================] - ETA: 0s - loss: 0.1488 - accuracy: 0.9521\n",
            "Epoch 00076: val_accuracy did not improve from 0.92749\n",
            "30/30 [==============================] - 10s 340ms/step - loss: 0.1488 - accuracy: 0.9521 - val_loss: 0.6642 - val_accuracy: 0.9154\n",
            "Epoch 77/100\n",
            "30/30 [==============================] - ETA: 0s - loss: 0.1385 - accuracy: 0.9528\n",
            "Epoch 00077: val_accuracy did not improve from 0.92749\n",
            "30/30 [==============================] - 10s 340ms/step - loss: 0.1385 - accuracy: 0.9528 - val_loss: 0.5331 - val_accuracy: 0.9245\n",
            "Epoch 78/100\n",
            "30/30 [==============================] - ETA: 0s - loss: 0.1387 - accuracy: 0.9501\n",
            "Epoch 00078: val_accuracy did not improve from 0.92749\n",
            "30/30 [==============================] - 10s 340ms/step - loss: 0.1387 - accuracy: 0.9501 - val_loss: 0.7690 - val_accuracy: 0.9033\n",
            "Epoch 79/100\n",
            "30/30 [==============================] - ETA: 0s - loss: 0.2207 - accuracy: 0.9313\n",
            "Epoch 00079: val_accuracy did not improve from 0.92749\n",
            "30/30 [==============================] - 10s 339ms/step - loss: 0.2207 - accuracy: 0.9313 - val_loss: 0.3108 - val_accuracy: 0.9094\n",
            "Epoch 80/100\n",
            "30/30 [==============================] - ETA: 0s - loss: 0.2188 - accuracy: 0.9370\n",
            "Epoch 00080: val_accuracy improved from 0.92749 to 0.93958, saving model to /checkpoint2\n",
            "30/30 [==============================] - 10s 341ms/step - loss: 0.2188 - accuracy: 0.9370 - val_loss: 0.2128 - val_accuracy: 0.9396\n",
            "Epoch 81/100\n",
            "30/30 [==============================] - ETA: 0s - loss: 0.1474 - accuracy: 0.9487\n",
            "Epoch 00081: val_accuracy did not improve from 0.93958\n",
            "30/30 [==============================] - 10s 339ms/step - loss: 0.1474 - accuracy: 0.9487 - val_loss: 0.4791 - val_accuracy: 0.8882\n",
            "Epoch 82/100\n",
            "30/30 [==============================] - ETA: 0s - loss: 0.1361 - accuracy: 0.9548\n",
            "Epoch 00082: val_accuracy did not improve from 0.93958\n",
            "30/30 [==============================] - 10s 340ms/step - loss: 0.1361 - accuracy: 0.9548 - val_loss: 0.7294 - val_accuracy: 0.8973\n",
            "Epoch 83/100\n",
            "30/30 [==============================] - ETA: 0s - loss: 0.1680 - accuracy: 0.9437\n",
            "Epoch 00083: val_accuracy did not improve from 0.93958\n",
            "30/30 [==============================] - 10s 341ms/step - loss: 0.1680 - accuracy: 0.9437 - val_loss: 0.5896 - val_accuracy: 0.9033\n",
            "Epoch 84/100\n",
            "30/30 [==============================] - ETA: 0s - loss: 0.1775 - accuracy: 0.9451\n",
            "Epoch 00084: val_accuracy did not improve from 0.93958\n",
            "30/30 [==============================] - 10s 342ms/step - loss: 0.1775 - accuracy: 0.9451 - val_loss: 0.4032 - val_accuracy: 0.9184\n",
            "Epoch 85/100\n",
            "30/30 [==============================] - ETA: 0s - loss: 0.1662 - accuracy: 0.9400\n",
            "Epoch 00085: val_accuracy did not improve from 0.93958\n",
            "30/30 [==============================] - 10s 340ms/step - loss: 0.1662 - accuracy: 0.9400 - val_loss: 0.3014 - val_accuracy: 0.9275\n",
            "Epoch 86/100\n",
            "30/30 [==============================] - ETA: 0s - loss: 0.1969 - accuracy: 0.9374\n",
            "Epoch 00086: val_accuracy did not improve from 0.93958\n",
            "30/30 [==============================] - 10s 338ms/step - loss: 0.1969 - accuracy: 0.9374 - val_loss: 0.3127 - val_accuracy: 0.9275\n",
            "Epoch 87/100\n",
            "30/30 [==============================] - ETA: 0s - loss: 0.1505 - accuracy: 0.9481\n",
            "Epoch 00087: val_accuracy did not improve from 0.93958\n",
            "30/30 [==============================] - 10s 340ms/step - loss: 0.1505 - accuracy: 0.9481 - val_loss: 0.3850 - val_accuracy: 0.9275\n",
            "Epoch 88/100\n",
            "30/30 [==============================] - ETA: 0s - loss: 0.1230 - accuracy: 0.9568\n",
            "Epoch 00088: val_accuracy did not improve from 0.93958\n",
            "30/30 [==============================] - 10s 340ms/step - loss: 0.1230 - accuracy: 0.9568 - val_loss: 0.3685 - val_accuracy: 0.9335\n",
            "Epoch 89/100\n",
            "30/30 [==============================] - ETA: 0s - loss: 0.1602 - accuracy: 0.9514\n",
            "Epoch 00089: val_accuracy did not improve from 0.93958\n",
            "30/30 [==============================] - 10s 341ms/step - loss: 0.1602 - accuracy: 0.9514 - val_loss: 0.3507 - val_accuracy: 0.9335\n",
            "Epoch 90/100\n",
            "30/30 [==============================] - ETA: 0s - loss: 0.1389 - accuracy: 0.9568\n",
            "Epoch 00090: val_accuracy did not improve from 0.93958\n",
            "30/30 [==============================] - 10s 341ms/step - loss: 0.1389 - accuracy: 0.9568 - val_loss: 0.4915 - val_accuracy: 0.9305\n",
            "Epoch 91/100\n",
            "30/30 [==============================] - ETA: 0s - loss: 0.1094 - accuracy: 0.9608\n",
            "Epoch 00091: val_accuracy did not improve from 0.93958\n",
            "30/30 [==============================] - 10s 341ms/step - loss: 0.1094 - accuracy: 0.9608 - val_loss: 0.5037 - val_accuracy: 0.9275\n",
            "Epoch 92/100\n",
            "30/30 [==============================] - ETA: 0s - loss: 0.1419 - accuracy: 0.9521\n",
            "Epoch 00092: val_accuracy did not improve from 0.93958\n",
            "30/30 [==============================] - 10s 341ms/step - loss: 0.1419 - accuracy: 0.9521 - val_loss: 0.7312 - val_accuracy: 0.9154\n",
            "Epoch 93/100\n",
            "30/30 [==============================] - ETA: 0s - loss: 0.1825 - accuracy: 0.9511\n",
            "Epoch 00093: val_accuracy did not improve from 0.93958\n",
            "30/30 [==============================] - 10s 342ms/step - loss: 0.1825 - accuracy: 0.9511 - val_loss: 0.5220 - val_accuracy: 0.9396\n",
            "Epoch 94/100\n",
            "30/30 [==============================] - ETA: 0s - loss: 0.1712 - accuracy: 0.9514\n",
            "Epoch 00094: val_accuracy did not improve from 0.93958\n",
            "30/30 [==============================] - 10s 342ms/step - loss: 0.1712 - accuracy: 0.9514 - val_loss: 0.3869 - val_accuracy: 0.9275\n",
            "Epoch 95/100\n",
            "30/30 [==============================] - ETA: 0s - loss: 0.2160 - accuracy: 0.9414\n",
            "Epoch 00095: val_accuracy did not improve from 0.93958\n",
            "30/30 [==============================] - 10s 341ms/step - loss: 0.2160 - accuracy: 0.9414 - val_loss: 0.4323 - val_accuracy: 0.9094\n",
            "Epoch 96/100\n",
            "30/30 [==============================] - ETA: 0s - loss: 0.2398 - accuracy: 0.9226\n",
            "Epoch 00096: val_accuracy did not improve from 0.93958\n",
            "30/30 [==============================] - 10s 338ms/step - loss: 0.2398 - accuracy: 0.9226 - val_loss: 0.4472 - val_accuracy: 0.8973\n",
            "Epoch 97/100\n",
            "30/30 [==============================] - ETA: 0s - loss: 0.1605 - accuracy: 0.9400\n",
            "Epoch 00097: val_accuracy did not improve from 0.93958\n",
            "30/30 [==============================] - 10s 341ms/step - loss: 0.1605 - accuracy: 0.9400 - val_loss: 0.6578 - val_accuracy: 0.9335\n",
            "Epoch 98/100\n",
            "30/30 [==============================] - ETA: 0s - loss: 0.0960 - accuracy: 0.9672\n",
            "Epoch 00098: val_accuracy did not improve from 0.93958\n",
            "30/30 [==============================] - 10s 342ms/step - loss: 0.0960 - accuracy: 0.9672 - val_loss: 0.7099 - val_accuracy: 0.9215\n",
            "Epoch 99/100\n",
            "30/30 [==============================] - ETA: 0s - loss: 0.0954 - accuracy: 0.9665\n",
            "Epoch 00099: val_accuracy did not improve from 0.93958\n",
            "30/30 [==============================] - 10s 342ms/step - loss: 0.0954 - accuracy: 0.9665 - val_loss: 1.1966 - val_accuracy: 0.9245\n",
            "Epoch 100/100\n",
            "30/30 [==============================] - ETA: 0s - loss: 0.1305 - accuracy: 0.9618\n",
            "Epoch 00100: val_accuracy did not improve from 0.93958\n",
            "30/30 [==============================] - 10s 341ms/step - loss: 0.1305 - accuracy: 0.9618 - val_loss: 0.8588 - val_accuracy: 0.9124\n"
          ],
          "name": "stdout"
        }
      ]
    },
    {
      "cell_type": "markdown",
      "metadata": {
        "id": "d5Xqk39w4dnC"
      },
      "source": [
        "**Test on Validation Dataset**"
      ]
    },
    {
      "cell_type": "code",
      "metadata": {
        "id": "NpYzC8YEfQ5w",
        "colab": {
          "base_uri": "https://localhost:8080/"
        },
        "outputId": "282155aa-cb2f-4aea-b479-9f5880c35f53"
      },
      "source": [
        "model.load_weights(\"/checkpoint2\")\r\n",
        "model.evaluate(X_val, t_val)\r\n",
        "y = predict(model,X_val)\r\n",
        "print(evaluate(y,t_val))"
      ],
      "execution_count": 37,
      "outputs": [
        {
          "output_type": "stream",
          "text": [
            "11/11 [==============================] - 0s 40ms/step - loss: 0.0864 - accuracy: 0.9637\n",
            "[[40  0  0  0  0  0  0  0  1  0  0]\n",
            " [ 0 39  3  0  0  0  0  0  0  0  0]\n",
            " [ 0  0 22  0  0  0  0  0  0  0  0]\n",
            " [ 0  0  0 35  0  2  0  0  0  0  0]\n",
            " [ 0  0  0  0  0  0  0  0  0  0  0]\n",
            " [ 0  0  0  0  0  8  0  0  0  0  0]\n",
            " [ 0  0  0  0  0  0 43  0  0  0  0]\n",
            " [ 0  1  0  0  0  0  0 46  0  0  0]\n",
            " [ 1  0  0  0  0  1  0  0 36  0  0]\n",
            " [ 0  0  0  0  0  0  0  0  0 11  0]\n",
            " [ 0  0  0  0  0  0  0  2  1  0 39]]\n"
          ],
          "name": "stdout"
        }
      ]
    },
    {
      "cell_type": "markdown",
      "metadata": {
        "id": "tWzrhgOz2ZVj"
      },
      "source": [
        "# **Prediction on test data**"
      ]
    },
    {
      "cell_type": "code",
      "metadata": {
        "id": "ESg9mpdRmv06"
      },
      "source": [
        "y_pred2 = predict(model, test_data2)\r\n",
        "y_pred2 = np.argmax(y_pred2,axis = 1)\r\n",
        "\r\n",
        "estimate = []\r\n",
        "cur = 0\r\n",
        "\r\n",
        "for i in range(len(all_arrays2)):\r\n",
        "  estimate.append(\"\")\r\n",
        "  for j in range(Number_of_partitions[i]):\r\n",
        "    if j==0:\r\n",
        "      estimate[len(estimate)-1] = estimate[len(estimate)-1] + index_to_Label[y_pred2[cur]]\r\n",
        "    else :\r\n",
        "      if index_to_Label[y_pred2[cur-1]] != index_to_Label[y_pred2[cur]]:\r\n",
        "        estimate[len(estimate)-1] = estimate[len(estimate)-1] + \"-\" + index_to_Label[y_pred2[cur]]\r\n",
        "    cur = cur + 1"
      ],
      "execution_count": 39,
      "outputs": []
    },
    {
      "cell_type": "markdown",
      "metadata": {
        "id": "pvK6bpnw2wF_"
      },
      "source": [
        "# **Save keys to csv file**"
      ]
    },
    {
      "cell_type": "code",
      "metadata": {
        "id": "bLOVBgn42u1M"
      },
      "source": [
        "prediction_dict = dict(zip(test_audio_files2, estimate)) \r\n",
        "\r\n",
        "\r\n",
        "filename = '/content/drive/MyDrive/task2.csv'\r\n",
        "with open(filename, 'w') as f:\r\n",
        "    for key in prediction_dict.keys():\r\n",
        "        f.write(\"%s,%s\\n\" % (key, prediction_dict[key]))"
      ],
      "execution_count": 41,
      "outputs": []
    }
  ]
}